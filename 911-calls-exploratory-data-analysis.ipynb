{
 "cells": [
  {
   "cell_type": "markdown",
   "metadata": {
    "papermill": {
     "duration": 0.042914,
     "end_time": "2022-06-30T11:05:31.698223",
     "exception": false,
     "start_time": "2022-06-30T11:05:31.655309",
     "status": "completed"
    },
    "tags": []
   },
   "source": [
    "# Data Exploration of the 911 calls\n",
    "\n",
    "Emergency (911) Calls: Fire, Traffic, EMS for Montgomery County, PA"
   ]
  },
  {
   "cell_type": "code",
   "execution_count": 1,
   "metadata": {
    "_cell_guid": "b1076dfc-b9ad-4769-8c92-a6c4dae69d19",
    "_uuid": "8f2839f25d086af736a60e9eeb907d3b93b6e0e5",
    "execution": {
     "iopub.execute_input": "2022-06-30T11:05:31.782512Z",
     "iopub.status.busy": "2022-06-30T11:05:31.781860Z",
     "iopub.status.idle": "2022-06-30T11:05:31.800381Z",
     "shell.execute_reply": "2022-06-30T11:05:31.801027Z",
     "shell.execute_reply.started": "2022-06-30T11:02:10.107084Z"
    },
    "papermill": {
     "duration": 0.062393,
     "end_time": "2022-06-30T11:05:31.801172",
     "exception": false,
     "start_time": "2022-06-30T11:05:31.738779",
     "status": "completed"
    },
    "tags": []
   },
   "outputs": [
    {
     "name": "stdout",
     "output_type": "stream",
     "text": [
      "/kaggle/input/montcoalert/911.csv\n"
     ]
    }
   ],
   "source": [
    "# This Python 3 environment comes with many helpful analytics libraries installed\n",
    "# It is defined by the kaggle/python Docker image: https://github.com/kaggle/docker-python\n",
    "# For example, here's several helpful packages to load\n",
    "\n",
    "import numpy as np # linear algebra\n",
    "import matplotlib.pyplot as plt\n",
    "import pandas as pd # data processing, CSV file I/O (e.g. pd.read_csv)\n",
    "%matplotlib inline\n",
    "# Input data files are available in the read-only \"../input/\" directory\n",
    "# For example, running this (by clicking run or pressing Shift+Enter) will list all files under the input directory\n",
    "\n",
    "import os\n",
    "for dirname, _, filenames in os.walk('/kaggle/input'):\n",
    "    for filename in filenames:\n",
    "        print(os.path.join(dirname, filename))\n",
    "\n",
    "# You can write up to 5GB to the current directory (/kaggle/working/) that gets preserved as output when you create a version using \"Save & Run All\" \n",
    "# You can also write temporary files to /kaggle/temp/, but they won't be saved outside of the current session"
   ]
  },
  {
   "cell_type": "code",
   "execution_count": 2,
   "metadata": {
    "_cell_guid": "79c7e3d0-c299-4dcb-8224-4455121ee9b0",
    "_uuid": "d629ff2d2480ee46fbb7e2d37f6b5fab8052498a",
    "execution": {
     "iopub.execute_input": "2022-06-30T11:05:31.886785Z",
     "iopub.status.busy": "2022-06-30T11:05:31.886154Z",
     "iopub.status.idle": "2022-06-30T11:05:35.996135Z",
     "shell.execute_reply": "2022-06-30T11:05:35.995442Z",
     "shell.execute_reply.started": "2022-06-30T11:02:10.128093Z"
    },
    "papermill": {
     "duration": 4.153638,
     "end_time": "2022-06-30T11:05:35.996246",
     "exception": false,
     "start_time": "2022-06-30T11:05:31.842608",
     "status": "completed"
    },
    "tags": []
   },
   "outputs": [],
   "source": [
    "df = pd.read_csv('/kaggle/input/montcoalert/911.csv')"
   ]
  },
  {
   "cell_type": "code",
   "execution_count": 3,
   "metadata": {
    "execution": {
     "iopub.execute_input": "2022-06-30T11:05:36.085770Z",
     "iopub.status.busy": "2022-06-30T11:05:36.085124Z",
     "iopub.status.idle": "2022-06-30T11:05:36.422969Z",
     "shell.execute_reply": "2022-06-30T11:05:36.422408Z",
     "shell.execute_reply.started": "2022-06-30T11:02:13.227307Z"
    },
    "papermill": {
     "duration": 0.38592,
     "end_time": "2022-06-30T11:05:36.423081",
     "exception": false,
     "start_time": "2022-06-30T11:05:36.037161",
     "status": "completed"
    },
    "tags": []
   },
   "outputs": [
    {
     "name": "stdout",
     "output_type": "stream",
     "text": [
      "<class 'pandas.core.frame.DataFrame'>\n",
      "RangeIndex: 663522 entries, 0 to 663521\n",
      "Data columns (total 9 columns):\n",
      " #   Column     Non-Null Count   Dtype  \n",
      "---  ------     --------------   -----  \n",
      " 0   lat        663522 non-null  float64\n",
      " 1   lng        663522 non-null  float64\n",
      " 2   desc       663522 non-null  object \n",
      " 3   zip        583323 non-null  float64\n",
      " 4   title      663522 non-null  object \n",
      " 5   timeStamp  663522 non-null  object \n",
      " 6   twp        663229 non-null  object \n",
      " 7   addr       663522 non-null  object \n",
      " 8   e          663522 non-null  int64  \n",
      "dtypes: float64(3), int64(1), object(5)\n",
      "memory usage: 45.6+ MB\n"
     ]
    }
   ],
   "source": [
    "df.info()"
   ]
  },
  {
   "cell_type": "code",
   "execution_count": 4,
   "metadata": {
    "execution": {
     "iopub.execute_input": "2022-06-30T11:05:36.517859Z",
     "iopub.status.busy": "2022-06-30T11:05:36.517058Z",
     "iopub.status.idle": "2022-06-30T11:05:36.529996Z",
     "shell.execute_reply": "2022-06-30T11:05:36.529351Z",
     "shell.execute_reply.started": "2022-06-30T11:02:13.414047Z"
    },
    "papermill": {
     "duration": 0.065304,
     "end_time": "2022-06-30T11:05:36.530099",
     "exception": false,
     "start_time": "2022-06-30T11:05:36.464795",
     "status": "completed"
    },
    "tags": []
   },
   "outputs": [
    {
     "data": {
      "text/html": [
       "<div>\n",
       "<style scoped>\n",
       "    .dataframe tbody tr th:only-of-type {\n",
       "        vertical-align: middle;\n",
       "    }\n",
       "\n",
       "    .dataframe tbody tr th {\n",
       "        vertical-align: top;\n",
       "    }\n",
       "\n",
       "    .dataframe thead th {\n",
       "        text-align: right;\n",
       "    }\n",
       "</style>\n",
       "<table border=\"1\" class=\"dataframe\">\n",
       "  <thead>\n",
       "    <tr style=\"text-align: right;\">\n",
       "      <th></th>\n",
       "      <th>lat</th>\n",
       "      <th>lng</th>\n",
       "      <th>desc</th>\n",
       "      <th>zip</th>\n",
       "      <th>title</th>\n",
       "      <th>timeStamp</th>\n",
       "      <th>twp</th>\n",
       "      <th>addr</th>\n",
       "      <th>e</th>\n",
       "    </tr>\n",
       "  </thead>\n",
       "  <tbody>\n",
       "    <tr>\n",
       "      <th>0</th>\n",
       "      <td>40.297876</td>\n",
       "      <td>-75.581294</td>\n",
       "      <td>REINDEER CT &amp; DEAD END;  NEW HANOVER; Station ...</td>\n",
       "      <td>19525.0</td>\n",
       "      <td>EMS: BACK PAINS/INJURY</td>\n",
       "      <td>2015-12-10 17:10:52</td>\n",
       "      <td>NEW HANOVER</td>\n",
       "      <td>REINDEER CT &amp; DEAD END</td>\n",
       "      <td>1</td>\n",
       "    </tr>\n",
       "    <tr>\n",
       "      <th>1</th>\n",
       "      <td>40.258061</td>\n",
       "      <td>-75.264680</td>\n",
       "      <td>BRIAR PATH &amp; WHITEMARSH LN;  HATFIELD TOWNSHIP...</td>\n",
       "      <td>19446.0</td>\n",
       "      <td>EMS: DIABETIC EMERGENCY</td>\n",
       "      <td>2015-12-10 17:29:21</td>\n",
       "      <td>HATFIELD TOWNSHIP</td>\n",
       "      <td>BRIAR PATH &amp; WHITEMARSH LN</td>\n",
       "      <td>1</td>\n",
       "    </tr>\n",
       "    <tr>\n",
       "      <th>2</th>\n",
       "      <td>40.121182</td>\n",
       "      <td>-75.351975</td>\n",
       "      <td>HAWS AVE; NORRISTOWN; 2015-12-10 @ 14:39:21-St...</td>\n",
       "      <td>19401.0</td>\n",
       "      <td>Fire: GAS-ODOR/LEAK</td>\n",
       "      <td>2015-12-10 14:39:21</td>\n",
       "      <td>NORRISTOWN</td>\n",
       "      <td>HAWS AVE</td>\n",
       "      <td>1</td>\n",
       "    </tr>\n",
       "    <tr>\n",
       "      <th>3</th>\n",
       "      <td>40.116153</td>\n",
       "      <td>-75.343513</td>\n",
       "      <td>AIRY ST &amp; SWEDE ST;  NORRISTOWN; Station 308A;...</td>\n",
       "      <td>19401.0</td>\n",
       "      <td>EMS: CARDIAC EMERGENCY</td>\n",
       "      <td>2015-12-10 16:47:36</td>\n",
       "      <td>NORRISTOWN</td>\n",
       "      <td>AIRY ST &amp; SWEDE ST</td>\n",
       "      <td>1</td>\n",
       "    </tr>\n",
       "    <tr>\n",
       "      <th>4</th>\n",
       "      <td>40.251492</td>\n",
       "      <td>-75.603350</td>\n",
       "      <td>CHERRYWOOD CT &amp; DEAD END;  LOWER POTTSGROVE; S...</td>\n",
       "      <td>NaN</td>\n",
       "      <td>EMS: DIZZINESS</td>\n",
       "      <td>2015-12-10 16:56:52</td>\n",
       "      <td>LOWER POTTSGROVE</td>\n",
       "      <td>CHERRYWOOD CT &amp; DEAD END</td>\n",
       "      <td>1</td>\n",
       "    </tr>\n",
       "  </tbody>\n",
       "</table>\n",
       "</div>"
      ],
      "text/plain": [
       "         lat        lng                                               desc  \\\n",
       "0  40.297876 -75.581294  REINDEER CT & DEAD END;  NEW HANOVER; Station ...   \n",
       "1  40.258061 -75.264680  BRIAR PATH & WHITEMARSH LN;  HATFIELD TOWNSHIP...   \n",
       "2  40.121182 -75.351975  HAWS AVE; NORRISTOWN; 2015-12-10 @ 14:39:21-St...   \n",
       "3  40.116153 -75.343513  AIRY ST & SWEDE ST;  NORRISTOWN; Station 308A;...   \n",
       "4  40.251492 -75.603350  CHERRYWOOD CT & DEAD END;  LOWER POTTSGROVE; S...   \n",
       "\n",
       "       zip                    title            timeStamp                twp  \\\n",
       "0  19525.0   EMS: BACK PAINS/INJURY  2015-12-10 17:10:52        NEW HANOVER   \n",
       "1  19446.0  EMS: DIABETIC EMERGENCY  2015-12-10 17:29:21  HATFIELD TOWNSHIP   \n",
       "2  19401.0      Fire: GAS-ODOR/LEAK  2015-12-10 14:39:21         NORRISTOWN   \n",
       "3  19401.0   EMS: CARDIAC EMERGENCY  2015-12-10 16:47:36         NORRISTOWN   \n",
       "4      NaN           EMS: DIZZINESS  2015-12-10 16:56:52   LOWER POTTSGROVE   \n",
       "\n",
       "                         addr  e  \n",
       "0      REINDEER CT & DEAD END  1  \n",
       "1  BRIAR PATH & WHITEMARSH LN  1  \n",
       "2                    HAWS AVE  1  \n",
       "3          AIRY ST & SWEDE ST  1  \n",
       "4    CHERRYWOOD CT & DEAD END  1  "
      ]
     },
     "execution_count": 4,
     "metadata": {},
     "output_type": "execute_result"
    }
   ],
   "source": [
    "df.head()"
   ]
  },
  {
   "cell_type": "code",
   "execution_count": 5,
   "metadata": {
    "execution": {
     "iopub.execute_input": "2022-06-30T11:05:36.619289Z",
     "iopub.status.busy": "2022-06-30T11:05:36.618452Z",
     "iopub.status.idle": "2022-06-30T11:05:36.634031Z",
     "shell.execute_reply": "2022-06-30T11:05:36.634590Z",
     "shell.execute_reply.started": "2022-06-30T11:02:13.434387Z"
    },
    "papermill": {
     "duration": 0.061774,
     "end_time": "2022-06-30T11:05:36.634743",
     "exception": false,
     "start_time": "2022-06-30T11:05:36.572969",
     "status": "completed"
    },
    "tags": []
   },
   "outputs": [
    {
     "data": {
      "text/plain": [
       "19401.0    45606\n",
       "19464.0    43910\n",
       "19403.0    34888\n",
       "19446.0    32270\n",
       "19406.0    22464\n",
       "19002.0    21070\n",
       "19468.0    18939\n",
       "19046.0    17886\n",
       "19454.0    17661\n",
       "19090.0    17377\n",
       "Name: zip, dtype: int64"
      ]
     },
     "execution_count": 5,
     "metadata": {},
     "output_type": "execute_result"
    }
   ],
   "source": [
    "df['zip'].value_counts().head(10)"
   ]
  },
  {
   "cell_type": "markdown",
   "metadata": {
    "papermill": {
     "duration": 0.042255,
     "end_time": "2022-06-30T11:05:36.719220",
     "exception": false,
     "start_time": "2022-06-30T11:05:36.676965",
     "status": "completed"
    },
    "tags": []
   },
   "source": [
    "Top 30 caller townships"
   ]
  },
  {
   "cell_type": "code",
   "execution_count": 6,
   "metadata": {
    "execution": {
     "iopub.execute_input": "2022-06-30T11:05:36.812258Z",
     "iopub.status.busy": "2022-06-30T11:05:36.811587Z",
     "iopub.status.idle": "2022-06-30T11:05:37.398678Z",
     "shell.execute_reply": "2022-06-30T11:05:37.397996Z",
     "shell.execute_reply.started": "2022-06-30T11:02:13.452524Z"
    },
    "papermill": {
     "duration": 0.635553,
     "end_time": "2022-06-30T11:05:37.398789",
     "exception": false,
     "start_time": "2022-06-30T11:05:36.763236",
     "status": "completed"
    },
    "tags": []
   },
   "outputs": [
    {
     "data": {
      "text/plain": [
       "<matplotlib.axes._subplots.AxesSubplot at 0x7fbf5c32ef50>"
      ]
     },
     "execution_count": 6,
     "metadata": {},
     "output_type": "execute_result"
    },
    {
     "data": {
      "image/png": "[encoded data removed]",
      "text/plain": [
       "<Figure size 864x432 with 1 Axes>"
      ]
     },
     "metadata": {
      "needs_background": "light"
     },
     "output_type": "display_data"
    }
   ],
   "source": [
    "plt.figure(figsize=(12,6))\n",
    "df['twp'].value_counts().head(30).plot.bar()"
   ]
  },
  {
   "cell_type": "code",
   "execution_count": null,
   "metadata": {
    "papermill": {
     "duration": 0.044638,
     "end_time": "2022-06-30T11:05:37.488178",
     "exception": false,
     "start_time": "2022-06-30T11:05:37.443540",
     "status": "completed"
    },
    "tags": []
   },
   "outputs": [],
   "source": []
  },
  {
   "cell_type": "code",
   "execution_count": 7,
   "metadata": {
    "execution": {
     "iopub.execute_input": "2022-06-30T11:05:37.583945Z",
     "iopub.status.busy": "2022-06-30T11:05:37.583311Z",
     "iopub.status.idle": "2022-06-30T11:05:37.585726Z",
     "shell.execute_reply": "2022-06-30T11:05:37.585134Z",
     "shell.execute_reply.started": "2022-06-30T11:02:13.959861Z"
    },
    "papermill": {
     "duration": 0.053063,
     "end_time": "2022-06-30T11:05:37.585832",
     "exception": false,
     "start_time": "2022-06-30T11:05:37.532769",
     "status": "completed"
    },
    "tags": []
   },
   "outputs": [],
   "source": [
    "# Title, reason for call, is a string which has main catagory (emmergency, fire and traffic)\n",
    "# and detailes of each is also given after the colon. Let's separate and make more colomns containg reasons (main & detail)\n",
    "\n",
    "def spliter0(text):\n",
    "    return text.split(\":\")[0]\n",
    "def spliter1(text):\n",
    "    return text.split(\":\")[1]\n"
   ]
  },
  {
   "cell_type": "code",
   "execution_count": 8,
   "metadata": {
    "execution": {
     "iopub.execute_input": "2022-06-30T11:05:37.676513Z",
     "iopub.status.busy": "2022-06-30T11:05:37.675913Z",
     "iopub.status.idle": "2022-06-30T11:05:57.284502Z",
     "shell.execute_reply": "2022-06-30T11:05:57.283980Z",
     "shell.execute_reply.started": "2022-06-30T11:02:13.966378Z"
    },
    "papermill": {
     "duration": 19.6551,
     "end_time": "2022-06-30T11:05:57.284629",
     "exception": false,
     "start_time": "2022-06-30T11:05:37.629529",
     "status": "completed"
    },
    "tags": []
   },
   "outputs": [
    {
     "data": {
      "text/html": [
       "<div>\n",
       "<style scoped>\n",
       "    .dataframe tbody tr th:only-of-type {\n",
       "        vertical-align: middle;\n",
       "    }\n",
       "\n",
       "    .dataframe tbody tr th {\n",
       "        vertical-align: top;\n",
       "    }\n",
       "\n",
       "    .dataframe thead th {\n",
       "        text-align: right;\n",
       "    }\n",
       "</style>\n",
       "<table border=\"1\" class=\"dataframe\">\n",
       "  <thead>\n",
       "    <tr style=\"text-align: right;\">\n",
       "      <th></th>\n",
       "      <th>lat</th>\n",
       "      <th>lng</th>\n",
       "      <th>desc</th>\n",
       "      <th>zip</th>\n",
       "      <th>title</th>\n",
       "      <th>timeStamp</th>\n",
       "      <th>twp</th>\n",
       "      <th>addr</th>\n",
       "      <th>e</th>\n",
       "      <th>reason_main</th>\n",
       "      <th>reason_detail</th>\n",
       "    </tr>\n",
       "  </thead>\n",
       "  <tbody>\n",
       "    <tr>\n",
       "      <th>0</th>\n",
       "      <td>40.297876</td>\n",
       "      <td>-75.581294</td>\n",
       "      <td>REINDEER CT &amp; DEAD END;  NEW HANOVER; Station ...</td>\n",
       "      <td>19525.0</td>\n",
       "      <td>EMS: BACK PAINS/INJURY</td>\n",
       "      <td>2015-12-10 17:10:52</td>\n",
       "      <td>NEW HANOVER</td>\n",
       "      <td>REINDEER CT &amp; DEAD END</td>\n",
       "      <td>1</td>\n",
       "      <td>EMS</td>\n",
       "      <td>BACK PAINS/INJURY</td>\n",
       "    </tr>\n",
       "    <tr>\n",
       "      <th>1</th>\n",
       "      <td>40.258061</td>\n",
       "      <td>-75.264680</td>\n",
       "      <td>BRIAR PATH &amp; WHITEMARSH LN;  HATFIELD TOWNSHIP...</td>\n",
       "      <td>19446.0</td>\n",
       "      <td>EMS: DIABETIC EMERGENCY</td>\n",
       "      <td>2015-12-10 17:29:21</td>\n",
       "      <td>HATFIELD TOWNSHIP</td>\n",
       "      <td>BRIAR PATH &amp; WHITEMARSH LN</td>\n",
       "      <td>1</td>\n",
       "      <td>EMS</td>\n",
       "      <td>DIABETIC EMERGENCY</td>\n",
       "    </tr>\n",
       "    <tr>\n",
       "      <th>2</th>\n",
       "      <td>40.121182</td>\n",
       "      <td>-75.351975</td>\n",
       "      <td>HAWS AVE; NORRISTOWN; 2015-12-10 @ 14:39:21-St...</td>\n",
       "      <td>19401.0</td>\n",
       "      <td>Fire: GAS-ODOR/LEAK</td>\n",
       "      <td>2015-12-10 14:39:21</td>\n",
       "      <td>NORRISTOWN</td>\n",
       "      <td>HAWS AVE</td>\n",
       "      <td>1</td>\n",
       "      <td>Fire</td>\n",
       "      <td>GAS-ODOR/LEAK</td>\n",
       "    </tr>\n",
       "    <tr>\n",
       "      <th>3</th>\n",
       "      <td>40.116153</td>\n",
       "      <td>-75.343513</td>\n",
       "      <td>AIRY ST &amp; SWEDE ST;  NORRISTOWN; Station 308A;...</td>\n",
       "      <td>19401.0</td>\n",
       "      <td>EMS: CARDIAC EMERGENCY</td>\n",
       "      <td>2015-12-10 16:47:36</td>\n",
       "      <td>NORRISTOWN</td>\n",
       "      <td>AIRY ST &amp; SWEDE ST</td>\n",
       "      <td>1</td>\n",
       "      <td>EMS</td>\n",
       "      <td>CARDIAC EMERGENCY</td>\n",
       "    </tr>\n",
       "    <tr>\n",
       "      <th>4</th>\n",
       "      <td>40.251492</td>\n",
       "      <td>-75.603350</td>\n",
       "      <td>CHERRYWOOD CT &amp; DEAD END;  LOWER POTTSGROVE; S...</td>\n",
       "      <td>NaN</td>\n",
       "      <td>EMS: DIZZINESS</td>\n",
       "      <td>2015-12-10 16:56:52</td>\n",
       "      <td>LOWER POTTSGROVE</td>\n",
       "      <td>CHERRYWOOD CT &amp; DEAD END</td>\n",
       "      <td>1</td>\n",
       "      <td>EMS</td>\n",
       "      <td>DIZZINESS</td>\n",
       "    </tr>\n",
       "  </tbody>\n",
       "</table>\n",
       "</div>"
      ],
      "text/plain": [
       "         lat        lng                                               desc  \\\n",
       "0  40.297876 -75.581294  REINDEER CT & DEAD END;  NEW HANOVER; Station ...   \n",
       "1  40.258061 -75.264680  BRIAR PATH & WHITEMARSH LN;  HATFIELD TOWNSHIP...   \n",
       "2  40.121182 -75.351975  HAWS AVE; NORRISTOWN; 2015-12-10 @ 14:39:21-St...   \n",
       "3  40.116153 -75.343513  AIRY ST & SWEDE ST;  NORRISTOWN; Station 308A;...   \n",
       "4  40.251492 -75.603350  CHERRYWOOD CT & DEAD END;  LOWER POTTSGROVE; S...   \n",
       "\n",
       "       zip                    title            timeStamp                twp  \\\n",
       "0  19525.0   EMS: BACK PAINS/INJURY  2015-12-10 17:10:52        NEW HANOVER   \n",
       "1  19446.0  EMS: DIABETIC EMERGENCY  2015-12-10 17:29:21  HATFIELD TOWNSHIP   \n",
       "2  19401.0      Fire: GAS-ODOR/LEAK  2015-12-10 14:39:21         NORRISTOWN   \n",
       "3  19401.0   EMS: CARDIAC EMERGENCY  2015-12-10 16:47:36         NORRISTOWN   \n",
       "4      NaN           EMS: DIZZINESS  2015-12-10 16:56:52   LOWER POTTSGROVE   \n",
       "\n",
       "                         addr  e reason_main        reason_detail  \n",
       "0      REINDEER CT & DEAD END  1         EMS    BACK PAINS/INJURY  \n",
       "1  BRIAR PATH & WHITEMARSH LN  1         EMS   DIABETIC EMERGENCY  \n",
       "2                    HAWS AVE  1        Fire        GAS-ODOR/LEAK  \n",
       "3          AIRY ST & SWEDE ST  1         EMS    CARDIAC EMERGENCY  \n",
       "4    CHERRYWOOD CT & DEAD END  1         EMS            DIZZINESS  "
      ]
     },
     "execution_count": 8,
     "metadata": {},
     "output_type": "execute_result"
    }
   ],
   "source": [
    "df['reason_main'] = df.apply(lambda x: spliter0(x['title']), axis=1)\n",
    "df['reason_detail'] = df.apply(lambda x: spliter1(x['title']), axis=1)\n",
    "df.head()"
   ]
  },
  {
   "cell_type": "code",
   "execution_count": 9,
   "metadata": {
    "execution": {
     "iopub.execute_input": "2022-06-30T11:05:57.566209Z",
     "iopub.status.busy": "2022-06-30T11:05:57.502738Z",
     "iopub.status.idle": "2022-06-30T11:05:57.575124Z",
     "shell.execute_reply": "2022-06-30T11:05:57.574445Z",
     "shell.execute_reply.started": "2022-06-30T11:02:26.503547Z"
    },
    "papermill": {
     "duration": 0.245813,
     "end_time": "2022-06-30T11:05:57.575232",
     "exception": false,
     "start_time": "2022-06-30T11:05:57.329419",
     "status": "completed"
    },
    "tags": []
   },
   "outputs": [
    {
     "data": {
      "text/plain": [
       "EMS        332692\n",
       "Traffic    230208\n",
       "Fire       100622\n",
       "Name: reason_main, dtype: int64"
      ]
     },
     "execution_count": 9,
     "metadata": {},
     "output_type": "execute_result"
    }
   ],
   "source": [
    "df['reason_main'].value_counts()"
   ]
  },
  {
   "cell_type": "code",
   "execution_count": 10,
   "metadata": {
    "execution": {
     "iopub.execute_input": "2022-06-30T11:05:57.862450Z",
     "iopub.status.busy": "2022-06-30T11:05:57.861080Z",
     "iopub.status.idle": "2022-06-30T11:05:57.870377Z",
     "shell.execute_reply": "2022-06-30T11:05:57.869860Z",
     "shell.execute_reply.started": "2022-06-30T11:02:26.601163Z"
    },
    "papermill": {
     "duration": 0.249827,
     "end_time": "2022-06-30T11:05:57.870485",
     "exception": false,
     "start_time": "2022-06-30T11:05:57.620658",
     "status": "completed"
    },
    "tags": []
   },
   "outputs": [
    {
     "data": {
      "text/plain": [
       " VEHICLE ACCIDENT -     148372\n",
       " DISABLED VEHICLE -      47909\n",
       " FIRE ALARM              38452\n",
       " VEHICLE ACCIDENT        36377\n",
       " FALL VICTIM             34683\n",
       "                         ...  \n",
       " BOMB THREAT                 2\n",
       " ANIMAL COMPLAINT            1\n",
       " FOOT PATROL                 1\n",
       " HIT + RUN                   1\n",
       " PRISONER IN CUSTODY         1\n",
       "Name: reason_detail, Length: 95, dtype: int64"
      ]
     },
     "execution_count": 10,
     "metadata": {},
     "output_type": "execute_result"
    }
   ],
   "source": [
    "df['reason_detail'].value_counts()"
   ]
  },
  {
   "cell_type": "code",
   "execution_count": 11,
   "metadata": {
    "execution": {
     "iopub.execute_input": "2022-06-30T11:05:57.969895Z",
     "iopub.status.busy": "2022-06-30T11:05:57.969242Z",
     "iopub.status.idle": "2022-06-30T11:05:58.898640Z",
     "shell.execute_reply": "2022-06-30T11:05:58.899213Z",
     "shell.execute_reply.started": "2022-06-30T11:02:26.711745Z"
    },
    "papermill": {
     "duration": 0.983013,
     "end_time": "2022-06-30T11:05:58.899352",
     "exception": false,
     "start_time": "2022-06-30T11:05:57.916339",
     "status": "completed"
    },
    "tags": []
   },
   "outputs": [],
   "source": [
    "import seaborn as sns"
   ]
  },
  {
   "cell_type": "code",
   "execution_count": 12,
   "metadata": {
    "execution": {
     "iopub.execute_input": "2022-06-30T11:05:58.993965Z",
     "iopub.status.busy": "2022-06-30T11:05:58.993323Z",
     "iopub.status.idle": "2022-06-30T11:05:59.284757Z",
     "shell.execute_reply": "2022-06-30T11:05:59.284046Z",
     "shell.execute_reply.started": "2022-06-30T11:02:27.623993Z"
    },
    "papermill": {
     "duration": 0.339494,
     "end_time": "2022-06-30T11:05:59.284878",
     "exception": false,
     "start_time": "2022-06-30T11:05:58.945384",
     "status": "completed"
    },
    "tags": []
   },
   "outputs": [
    {
     "data": {
      "text/plain": [
       "<matplotlib.axes._subplots.AxesSubplot at 0x7fbf45191910>"
      ]
     },
     "execution_count": 12,
     "metadata": {},
     "output_type": "execute_result"
    },
    {
     "data": {
      "image/png": "[encoded data removed]",
      "text/plain": [
       "<Figure size 432x288 with 1 Axes>"
      ]
     },
     "metadata": {
      "needs_background": "light"
     },
     "output_type": "display_data"
    }
   ],
   "source": [
    "sns.countplot(df['reason_main'], color=None)"
   ]
  },
  {
   "cell_type": "code",
   "execution_count": 13,
   "metadata": {
    "execution": {
     "iopub.execute_input": "2022-06-30T11:05:59.430058Z",
     "iopub.status.busy": "2022-06-30T11:05:59.386739Z",
     "iopub.status.idle": "2022-06-30T11:06:00.096467Z",
     "shell.execute_reply": "2022-06-30T11:06:00.095639Z",
     "shell.execute_reply.started": "2022-06-30T11:02:27.941331Z"
    },
    "papermill": {
     "duration": 0.762717,
     "end_time": "2022-06-30T11:06:00.096599",
     "exception": false,
     "start_time": "2022-06-30T11:05:59.333882",
     "status": "completed"
    },
    "tags": []
   },
   "outputs": [
    {
     "data": {
      "text/plain": [
       "Text(0, 0.5, 'Call counts')"
      ]
     },
     "execution_count": 13,
     "metadata": {},
     "output_type": "execute_result"
    },
    {
     "data": {
      "image/png": "[encoded data removed]",
      "text/plain": [
       "<Figure size 864x432 with 1 Axes>"
      ]
     },
     "metadata": {
      "needs_background": "light"
     },
     "output_type": "display_data"
    }
   ],
   "source": [
    "plt.figure(figsize=(12, 6))\n",
    "df_ems = df[df['reason_main']=='EMS']\n",
    "df_ems['reason_detail'].value_counts()\n",
    "df_ems_top10 = df_ems['reason_detail'].value_counts().head(30)\n",
    "df_ems_top10.plot.bar()\n",
    "plt.title('To 30 reasons for EMS calls')\n",
    "plt.ylabel('Call counts')\n"
   ]
  },
  {
   "cell_type": "code",
   "execution_count": 14,
   "metadata": {
    "execution": {
     "iopub.execute_input": "2022-06-30T11:06:00.255880Z",
     "iopub.status.busy": "2022-06-30T11:06:00.255357Z",
     "iopub.status.idle": "2022-06-30T11:06:00.624210Z",
     "shell.execute_reply": "2022-06-30T11:06:00.623789Z",
     "shell.execute_reply.started": "2022-06-30T11:02:28.578960Z"
    },
    "papermill": {
     "duration": 0.475709,
     "end_time": "2022-06-30T11:06:00.624296",
     "exception": false,
     "start_time": "2022-06-30T11:06:00.148587",
     "status": "completed"
    },
    "tags": []
   },
   "outputs": [
    {
     "data": {
      "text/plain": [
       "Text(0, 0.5, 'Call counts')"
      ]
     },
     "execution_count": 14,
     "metadata": {},
     "output_type": "execute_result"
    },
    {
     "data": {
      "image/png": "[encoded data removed]",
      "text/plain": [
       "<Figure size 864x432 with 1 Axes>"
      ]
     },
     "metadata": {
      "needs_background": "light"
     },
     "output_type": "display_data"
    }
   ],
   "source": [
    "plt.figure(figsize=(12,6))\n",
    "df_trf = df[df['reason_main']=='Traffic']\n",
    "df_trf['reason_detail'].value_counts()\n",
    "df_trf = df_trf['reason_detail'].value_counts()\n",
    "df_trf.plot.bar()\n",
    "plt.title('Reasons for Traffic accident calls')\n",
    "plt.ylabel('Call counts')"
   ]
  },
  {
   "cell_type": "code",
   "execution_count": null,
   "metadata": {
    "papermill": {
     "duration": 0.033782,
     "end_time": "2022-06-30T11:06:00.691648",
     "exception": false,
     "start_time": "2022-06-30T11:06:00.657866",
     "status": "completed"
    },
    "tags": []
   },
   "outputs": [],
   "source": []
  },
  {
   "cell_type": "code",
   "execution_count": 15,
   "metadata": {
    "execution": {
     "iopub.execute_input": "2022-06-30T11:06:00.805178Z",
     "iopub.status.busy": "2022-06-30T11:06:00.804590Z",
     "iopub.status.idle": "2022-06-30T11:06:01.086315Z",
     "shell.execute_reply": "2022-06-30T11:06:01.085854Z",
     "shell.execute_reply.started": "2022-06-30T11:02:28.902340Z"
    },
    "papermill": {
     "duration": 0.361131,
     "end_time": "2022-06-30T11:06:01.086407",
     "exception": false,
     "start_time": "2022-06-30T11:06:00.725276",
     "status": "completed"
    },
    "tags": []
   },
   "outputs": [
    {
     "data": {
      "text/plain": [
       "Text(0, 0.5, 'Call counts')"
      ]
     },
     "execution_count": 15,
     "metadata": {},
     "output_type": "execute_result"
    },
    {
     "data": {
      "image/png": "[encoded data removed]",
      "text/plain": [
       "<Figure size 864x432 with 1 Axes>"
      ]
     },
     "metadata": {
      "needs_background": "light"
     },
     "output_type": "display_data"
    }
   ],
   "source": [
    "plt.figure(figsize=(12,6))\n",
    "df_fire = df[df['reason_main']=='Fire']\n",
    "df_fire['reason_detail'].value_counts()\n",
    "df_fire_top10 = df_fire['reason_detail'].value_counts().head(10)\n",
    "df_fire_top10.plot.bar()\n",
    "plt.title('To 10 reasons for Traffic accident alls')\n",
    "plt.ylabel('Call counts')\n"
   ]
  },
  {
   "cell_type": "code",
   "execution_count": 16,
   "metadata": {
    "execution": {
     "iopub.execute_input": "2022-06-30T11:06:01.412140Z",
     "iopub.status.busy": "2022-06-30T11:06:01.411430Z",
     "iopub.status.idle": "2022-06-30T11:06:01.517020Z",
     "shell.execute_reply": "2022-06-30T11:06:01.516450Z",
     "shell.execute_reply.started": "2022-06-30T11:02:29.181240Z"
    },
    "papermill": {
     "duration": 0.39592,
     "end_time": "2022-06-30T11:06:01.517135",
     "exception": false,
     "start_time": "2022-06-30T11:06:01.121215",
     "status": "completed"
    },
    "tags": []
   },
   "outputs": [],
   "source": [
    "df['timeStamp'] = pd.to_datetime(df['timeStamp'])"
   ]
  },
  {
   "cell_type": "code",
   "execution_count": 17,
   "metadata": {
    "execution": {
     "iopub.execute_input": "2022-06-30T11:06:01.627636Z",
     "iopub.status.busy": "2022-06-30T11:06:01.626985Z",
     "iopub.status.idle": "2022-06-30T11:06:01.945439Z",
     "shell.execute_reply": "2022-06-30T11:06:01.944881Z",
     "shell.execute_reply.started": "2022-06-30T11:02:29.409311Z"
    },
    "papermill": {
     "duration": 0.376795,
     "end_time": "2022-06-30T11:06:01.945545",
     "exception": false,
     "start_time": "2022-06-30T11:06:01.568750",
     "status": "completed"
    },
    "tags": []
   },
   "outputs": [
    {
     "data": {
      "text/html": [
       "<div>\n",
       "<style scoped>\n",
       "    .dataframe tbody tr th:only-of-type {\n",
       "        vertical-align: middle;\n",
       "    }\n",
       "\n",
       "    .dataframe tbody tr th {\n",
       "        vertical-align: top;\n",
       "    }\n",
       "\n",
       "    .dataframe thead th {\n",
       "        text-align: right;\n",
       "    }\n",
       "</style>\n",
       "<table border=\"1\" class=\"dataframe\">\n",
       "  <thead>\n",
       "    <tr style=\"text-align: right;\">\n",
       "      <th></th>\n",
       "      <th>lat</th>\n",
       "      <th>lng</th>\n",
       "      <th>desc</th>\n",
       "      <th>zip</th>\n",
       "      <th>title</th>\n",
       "      <th>timeStamp</th>\n",
       "      <th>twp</th>\n",
       "      <th>addr</th>\n",
       "      <th>e</th>\n",
       "      <th>reason_main</th>\n",
       "      <th>reason_detail</th>\n",
       "      <th>Year</th>\n",
       "      <th>Hour</th>\n",
       "      <th>Month</th>\n",
       "      <th>DayOfTheWeek</th>\n",
       "    </tr>\n",
       "  </thead>\n",
       "  <tbody>\n",
       "    <tr>\n",
       "      <th>0</th>\n",
       "      <td>40.297876</td>\n",
       "      <td>-75.581294</td>\n",
       "      <td>REINDEER CT &amp; DEAD END;  NEW HANOVER; Station ...</td>\n",
       "      <td>19525.0</td>\n",
       "      <td>EMS: BACK PAINS/INJURY</td>\n",
       "      <td>2015-12-10 17:10:52</td>\n",
       "      <td>NEW HANOVER</td>\n",
       "      <td>REINDEER CT &amp; DEAD END</td>\n",
       "      <td>1</td>\n",
       "      <td>EMS</td>\n",
       "      <td>BACK PAINS/INJURY</td>\n",
       "      <td>2015</td>\n",
       "      <td>17</td>\n",
       "      <td>12</td>\n",
       "      <td>3</td>\n",
       "    </tr>\n",
       "    <tr>\n",
       "      <th>1</th>\n",
       "      <td>40.258061</td>\n",
       "      <td>-75.264680</td>\n",
       "      <td>BRIAR PATH &amp; WHITEMARSH LN;  HATFIELD TOWNSHIP...</td>\n",
       "      <td>19446.0</td>\n",
       "      <td>EMS: DIABETIC EMERGENCY</td>\n",
       "      <td>2015-12-10 17:29:21</td>\n",
       "      <td>HATFIELD TOWNSHIP</td>\n",
       "      <td>BRIAR PATH &amp; WHITEMARSH LN</td>\n",
       "      <td>1</td>\n",
       "      <td>EMS</td>\n",
       "      <td>DIABETIC EMERGENCY</td>\n",
       "      <td>2015</td>\n",
       "      <td>17</td>\n",
       "      <td>12</td>\n",
       "      <td>3</td>\n",
       "    </tr>\n",
       "    <tr>\n",
       "      <th>2</th>\n",
       "      <td>40.121182</td>\n",
       "      <td>-75.351975</td>\n",
       "      <td>HAWS AVE; NORRISTOWN; 2015-12-10 @ 14:39:21-St...</td>\n",
       "      <td>19401.0</td>\n",
       "      <td>Fire: GAS-ODOR/LEAK</td>\n",
       "      <td>2015-12-10 14:39:21</td>\n",
       "      <td>NORRISTOWN</td>\n",
       "      <td>HAWS AVE</td>\n",
       "      <td>1</td>\n",
       "      <td>Fire</td>\n",
       "      <td>GAS-ODOR/LEAK</td>\n",
       "      <td>2015</td>\n",
       "      <td>14</td>\n",
       "      <td>12</td>\n",
       "      <td>3</td>\n",
       "    </tr>\n",
       "    <tr>\n",
       "      <th>3</th>\n",
       "      <td>40.116153</td>\n",
       "      <td>-75.343513</td>\n",
       "      <td>AIRY ST &amp; SWEDE ST;  NORRISTOWN; Station 308A;...</td>\n",
       "      <td>19401.0</td>\n",
       "      <td>EMS: CARDIAC EMERGENCY</td>\n",
       "      <td>2015-12-10 16:47:36</td>\n",
       "      <td>NORRISTOWN</td>\n",
       "      <td>AIRY ST &amp; SWEDE ST</td>\n",
       "      <td>1</td>\n",
       "      <td>EMS</td>\n",
       "      <td>CARDIAC EMERGENCY</td>\n",
       "      <td>2015</td>\n",
       "      <td>16</td>\n",
       "      <td>12</td>\n",
       "      <td>3</td>\n",
       "    </tr>\n",
       "    <tr>\n",
       "      <th>4</th>\n",
       "      <td>40.251492</td>\n",
       "      <td>-75.603350</td>\n",
       "      <td>CHERRYWOOD CT &amp; DEAD END;  LOWER POTTSGROVE; S...</td>\n",
       "      <td>NaN</td>\n",
       "      <td>EMS: DIZZINESS</td>\n",
       "      <td>2015-12-10 16:56:52</td>\n",
       "      <td>LOWER POTTSGROVE</td>\n",
       "      <td>CHERRYWOOD CT &amp; DEAD END</td>\n",
       "      <td>1</td>\n",
       "      <td>EMS</td>\n",
       "      <td>DIZZINESS</td>\n",
       "      <td>2015</td>\n",
       "      <td>16</td>\n",
       "      <td>12</td>\n",
       "      <td>3</td>\n",
       "    </tr>\n",
       "  </tbody>\n",
       "</table>\n",
       "</div>"
      ],
      "text/plain": [
       "         lat        lng                                               desc  \\\n",
       "0  40.297876 -75.581294  REINDEER CT & DEAD END;  NEW HANOVER; Station ...   \n",
       "1  40.258061 -75.264680  BRIAR PATH & WHITEMARSH LN;  HATFIELD TOWNSHIP...   \n",
       "2  40.121182 -75.351975  HAWS AVE; NORRISTOWN; 2015-12-10 @ 14:39:21-St...   \n",
       "3  40.116153 -75.343513  AIRY ST & SWEDE ST;  NORRISTOWN; Station 308A;...   \n",
       "4  40.251492 -75.603350  CHERRYWOOD CT & DEAD END;  LOWER POTTSGROVE; S...   \n",
       "\n",
       "       zip                    title           timeStamp                twp  \\\n",
       "0  19525.0   EMS: BACK PAINS/INJURY 2015-12-10 17:10:52        NEW HANOVER   \n",
       "1  19446.0  EMS: DIABETIC EMERGENCY 2015-12-10 17:29:21  HATFIELD TOWNSHIP   \n",
       "2  19401.0      Fire: GAS-ODOR/LEAK 2015-12-10 14:39:21         NORRISTOWN   \n",
       "3  19401.0   EMS: CARDIAC EMERGENCY 2015-12-10 16:47:36         NORRISTOWN   \n",
       "4      NaN           EMS: DIZZINESS 2015-12-10 16:56:52   LOWER POTTSGROVE   \n",
       "\n",
       "                         addr  e reason_main        reason_detail  Year  Hour  \\\n",
       "0      REINDEER CT & DEAD END  1         EMS    BACK PAINS/INJURY  2015    17   \n",
       "1  BRIAR PATH & WHITEMARSH LN  1         EMS   DIABETIC EMERGENCY  2015    17   \n",
       "2                    HAWS AVE  1        Fire        GAS-ODOR/LEAK  2015    14   \n",
       "3          AIRY ST & SWEDE ST  1         EMS    CARDIAC EMERGENCY  2015    16   \n",
       "4    CHERRYWOOD CT & DEAD END  1         EMS            DIZZINESS  2015    16   \n",
       "\n",
       "   Month  DayOfTheWeek  \n",
       "0     12             3  \n",
       "1     12             3  \n",
       "2     12             3  \n",
       "3     12             3  \n",
       "4     12             3  "
      ]
     },
     "execution_count": 17,
     "metadata": {},
     "output_type": "execute_result"
    }
   ],
   "source": [
    "df['Year'] = df['timeStamp'].dt.year\n",
    "df['Hour'] = df['timeStamp'].dt.hour\n",
    "df['Month'] = df['timeStamp'].dt.month\n",
    "df['DayOfTheWeek']= df['timeStamp'].dt.dayofweek\n",
    "df.head()"
   ]
  },
  {
   "cell_type": "code",
   "execution_count": 18,
   "metadata": {
    "execution": {
     "iopub.execute_input": "2022-06-30T11:06:02.057619Z",
     "iopub.status.busy": "2022-06-30T11:06:02.056966Z",
     "iopub.status.idle": "2022-06-30T11:06:02.101262Z",
     "shell.execute_reply": "2022-06-30T11:06:02.101795Z",
     "shell.execute_reply.started": "2022-06-30T11:02:29.694061Z"
    },
    "papermill": {
     "duration": 0.103763,
     "end_time": "2022-06-30T11:06:02.101943",
     "exception": false,
     "start_time": "2022-06-30T11:06:01.998180",
     "status": "completed"
    },
    "tags": []
   },
   "outputs": [],
   "source": [
    "days_mapping = {0: 'Monday', 1: 'Tuesday', 2: 'Wednsday', 3:'Thursday', 4:'Friday',5:'Saturday', 6:'Sunday'}\n",
    "df['DayOfTheWeek']=df['DayOfTheWeek'].map(days_mapping)"
   ]
  },
  {
   "cell_type": "code",
   "execution_count": 19,
   "metadata": {
    "execution": {
     "iopub.execute_input": "2022-06-30T11:06:02.226549Z",
     "iopub.status.busy": "2022-06-30T11:06:02.225912Z",
     "iopub.status.idle": "2022-06-30T11:06:02.230642Z",
     "shell.execute_reply": "2022-06-30T11:06:02.229994Z",
     "shell.execute_reply.started": "2022-06-30T11:02:29.726903Z"
    },
    "papermill": {
     "duration": 0.076449,
     "end_time": "2022-06-30T11:06:02.230765",
     "exception": false,
     "start_time": "2022-06-30T11:06:02.154316",
     "status": "completed"
    },
    "tags": []
   },
   "outputs": [
    {
     "data": {
      "text/html": [
       "<div>\n",
       "<style scoped>\n",
       "    .dataframe tbody tr th:only-of-type {\n",
       "        vertical-align: middle;\n",
       "    }\n",
       "\n",
       "    .dataframe tbody tr th {\n",
       "        vertical-align: top;\n",
       "    }\n",
       "\n",
       "    .dataframe thead th {\n",
       "        text-align: right;\n",
       "    }\n",
       "</style>\n",
       "<table border=\"1\" class=\"dataframe\">\n",
       "  <thead>\n",
       "    <tr style=\"text-align: right;\">\n",
       "      <th></th>\n",
       "      <th>lat</th>\n",
       "      <th>lng</th>\n",
       "      <th>desc</th>\n",
       "      <th>zip</th>\n",
       "      <th>title</th>\n",
       "      <th>timeStamp</th>\n",
       "      <th>twp</th>\n",
       "      <th>addr</th>\n",
       "      <th>e</th>\n",
       "      <th>reason_main</th>\n",
       "      <th>reason_detail</th>\n",
       "      <th>Year</th>\n",
       "      <th>Hour</th>\n",
       "      <th>Month</th>\n",
       "      <th>DayOfTheWeek</th>\n",
       "    </tr>\n",
       "  </thead>\n",
       "  <tbody>\n",
       "    <tr>\n",
       "      <th>663517</th>\n",
       "      <td>40.157956</td>\n",
       "      <td>-75.348060</td>\n",
       "      <td>SUNSET AVE &amp; WOODLAND AVE; EAST NORRITON; 2020...</td>\n",
       "      <td>19403.0</td>\n",
       "      <td>Traffic: VEHICLE ACCIDENT -</td>\n",
       "      <td>2020-07-29 15:46:51</td>\n",
       "      <td>EAST NORRITON</td>\n",
       "      <td>SUNSET AVE &amp; WOODLAND AVE</td>\n",
       "      <td>1</td>\n",
       "      <td>Traffic</td>\n",
       "      <td>VEHICLE ACCIDENT -</td>\n",
       "      <td>2020</td>\n",
       "      <td>15</td>\n",
       "      <td>7</td>\n",
       "      <td>Wednsday</td>\n",
       "    </tr>\n",
       "    <tr>\n",
       "      <th>663518</th>\n",
       "      <td>40.136306</td>\n",
       "      <td>-75.428697</td>\n",
       "      <td>EAGLEVILLE RD &amp; BUNTING CIR;  LOWER PROVIDENCE...</td>\n",
       "      <td>19403.0</td>\n",
       "      <td>EMS: GENERAL WEAKNESS</td>\n",
       "      <td>2020-07-29 15:52:19</td>\n",
       "      <td>LOWER PROVIDENCE</td>\n",
       "      <td>EAGLEVILLE RD &amp; BUNTING CIR</td>\n",
       "      <td>1</td>\n",
       "      <td>EMS</td>\n",
       "      <td>GENERAL WEAKNESS</td>\n",
       "      <td>2020</td>\n",
       "      <td>15</td>\n",
       "      <td>7</td>\n",
       "      <td>Wednsday</td>\n",
       "    </tr>\n",
       "    <tr>\n",
       "      <th>663519</th>\n",
       "      <td>40.013779</td>\n",
       "      <td>-75.300835</td>\n",
       "      <td>HAVERFORD STATION RD;  LOWER MERION; Station 3...</td>\n",
       "      <td>19041.0</td>\n",
       "      <td>EMS: VEHICLE ACCIDENT</td>\n",
       "      <td>2020-07-29 15:52:52</td>\n",
       "      <td>LOWER MERION</td>\n",
       "      <td>HAVERFORD STATION RD</td>\n",
       "      <td>1</td>\n",
       "      <td>EMS</td>\n",
       "      <td>VEHICLE ACCIDENT</td>\n",
       "      <td>2020</td>\n",
       "      <td>15</td>\n",
       "      <td>7</td>\n",
       "      <td>Wednsday</td>\n",
       "    </tr>\n",
       "    <tr>\n",
       "      <th>663520</th>\n",
       "      <td>40.121603</td>\n",
       "      <td>-75.351437</td>\n",
       "      <td>MARSHALL ST &amp; HAWS AVE; NORRISTOWN; 2020-07-29...</td>\n",
       "      <td>19401.0</td>\n",
       "      <td>Fire: BUILDING FIRE</td>\n",
       "      <td>2020-07-29 15:54:08</td>\n",
       "      <td>NORRISTOWN</td>\n",
       "      <td>MARSHALL ST &amp; HAWS AVE</td>\n",
       "      <td>1</td>\n",
       "      <td>Fire</td>\n",
       "      <td>BUILDING FIRE</td>\n",
       "      <td>2020</td>\n",
       "      <td>15</td>\n",
       "      <td>7</td>\n",
       "      <td>Wednsday</td>\n",
       "    </tr>\n",
       "    <tr>\n",
       "      <th>663521</th>\n",
       "      <td>40.015046</td>\n",
       "      <td>-75.299674</td>\n",
       "      <td>HAVERFORD STATION RD &amp; W MONTGOMERY AVE; LOWER...</td>\n",
       "      <td>19041.0</td>\n",
       "      <td>Traffic: VEHICLE ACCIDENT -</td>\n",
       "      <td>2020-07-29 15:52:46</td>\n",
       "      <td>LOWER MERION</td>\n",
       "      <td>HAVERFORD STATION RD &amp; W MONTGOMERY AVE</td>\n",
       "      <td>1</td>\n",
       "      <td>Traffic</td>\n",
       "      <td>VEHICLE ACCIDENT -</td>\n",
       "      <td>2020</td>\n",
       "      <td>15</td>\n",
       "      <td>7</td>\n",
       "      <td>Wednsday</td>\n",
       "    </tr>\n",
       "  </tbody>\n",
       "</table>\n",
       "</div>"
      ],
      "text/plain": [
       "              lat        lng  \\\n",
       "663517  40.157956 -75.348060   \n",
       "663518  40.136306 -75.428697   \n",
       "663519  40.013779 -75.300835   \n",
       "663520  40.121603 -75.351437   \n",
       "663521  40.015046 -75.299674   \n",
       "\n",
       "                                                     desc      zip  \\\n",
       "663517  SUNSET AVE & WOODLAND AVE; EAST NORRITON; 2020...  19403.0   \n",
       "663518  EAGLEVILLE RD & BUNTING CIR;  LOWER PROVIDENCE...  19403.0   \n",
       "663519  HAVERFORD STATION RD;  LOWER MERION; Station 3...  19041.0   \n",
       "663520  MARSHALL ST & HAWS AVE; NORRISTOWN; 2020-07-29...  19401.0   \n",
       "663521  HAVERFORD STATION RD & W MONTGOMERY AVE; LOWER...  19041.0   \n",
       "\n",
       "                              title           timeStamp               twp  \\\n",
       "663517  Traffic: VEHICLE ACCIDENT - 2020-07-29 15:46:51     EAST NORRITON   \n",
       "663518        EMS: GENERAL WEAKNESS 2020-07-29 15:52:19  LOWER PROVIDENCE   \n",
       "663519        EMS: VEHICLE ACCIDENT 2020-07-29 15:52:52      LOWER MERION   \n",
       "663520          Fire: BUILDING FIRE 2020-07-29 15:54:08        NORRISTOWN   \n",
       "663521  Traffic: VEHICLE ACCIDENT - 2020-07-29 15:52:46      LOWER MERION   \n",
       "\n",
       "                                           addr  e reason_main  \\\n",
       "663517                SUNSET AVE & WOODLAND AVE  1     Traffic   \n",
       "663518              EAGLEVILLE RD & BUNTING CIR  1         EMS   \n",
       "663519                     HAVERFORD STATION RD  1         EMS   \n",
       "663520                   MARSHALL ST & HAWS AVE  1        Fire   \n",
       "663521  HAVERFORD STATION RD & W MONTGOMERY AVE  1     Traffic   \n",
       "\n",
       "              reason_detail  Year  Hour  Month DayOfTheWeek  \n",
       "663517   VEHICLE ACCIDENT -  2020    15      7     Wednsday  \n",
       "663518     GENERAL WEAKNESS  2020    15      7     Wednsday  \n",
       "663519     VEHICLE ACCIDENT  2020    15      7     Wednsday  \n",
       "663520        BUILDING FIRE  2020    15      7     Wednsday  \n",
       "663521   VEHICLE ACCIDENT -  2020    15      7     Wednsday  "
      ]
     },
     "execution_count": 19,
     "metadata": {},
     "output_type": "execute_result"
    }
   ],
   "source": [
    "df.tail()"
   ]
  },
  {
   "cell_type": "code",
   "execution_count": 20,
   "metadata": {
    "execution": {
     "iopub.execute_input": "2022-06-30T11:06:02.371979Z",
     "iopub.status.busy": "2022-06-30T11:06:02.371216Z",
     "iopub.status.idle": "2022-06-30T11:06:03.300948Z",
     "shell.execute_reply": "2022-06-30T11:06:03.300372Z",
     "shell.execute_reply.started": "2022-06-30T11:02:29.746880Z"
    },
    "papermill": {
     "duration": 1.018149,
     "end_time": "2022-06-30T11:06:03.301063",
     "exception": false,
     "start_time": "2022-06-30T11:06:02.282914",
     "status": "completed"
    },
    "tags": []
   },
   "outputs": [
    {
     "data": {
      "text/plain": [
       "<matplotlib.axes._subplots.AxesSubplot at 0x7fbf5b33e790>"
      ]
     },
     "execution_count": 20,
     "metadata": {},
     "output_type": "execute_result"
    },
    {
     "data": {
      "image/png": "[encoded data removed]",
      "text/plain": [
       "<Figure size 864x432 with 1 Axes>"
      ]
     },
     "metadata": {
      "needs_background": "light"
     },
     "output_type": "display_data"
    }
   ],
   "source": [
    "plt.figure(figsize=(12,6))\n",
    "sns.countplot(df['DayOfTheWeek'], hue=df['reason_main'])"
   ]
  },
  {
   "cell_type": "code",
   "execution_count": 21,
   "metadata": {
    "execution": {
     "iopub.execute_input": "2022-06-30T11:06:03.416493Z",
     "iopub.status.busy": "2022-06-30T11:06:03.415738Z",
     "iopub.status.idle": "2022-06-30T11:06:04.146886Z",
     "shell.execute_reply": "2022-06-30T11:06:04.147317Z",
     "shell.execute_reply.started": "2022-06-30T11:02:30.343921Z"
    },
    "papermill": {
     "duration": 0.792146,
     "end_time": "2022-06-30T11:06:04.147443",
     "exception": false,
     "start_time": "2022-06-30T11:06:03.355297",
     "status": "completed"
    },
    "tags": []
   },
   "outputs": [
    {
     "data": {
      "text/plain": [
       "<matplotlib.axes._subplots.AxesSubplot at 0x7fbf47c60410>"
      ]
     },
     "execution_count": 21,
     "metadata": {},
     "output_type": "execute_result"
    },
    {
     "data": {
      "image/png": "[encoded data removed]",
      "text/plain": [
       "<Figure size 864x432 with 1 Axes>"
      ]
     },
     "metadata": {
      "needs_background": "light"
     },
     "output_type": "display_data"
    }
   ],
   "source": [
    "plt.figure(figsize=(12,6))\n",
    "sns.countplot(df['Month'], hue=df['reason_main'])"
   ]
  },
  {
   "cell_type": "code",
   "execution_count": 22,
   "metadata": {
    "execution": {
     "iopub.execute_input": "2022-06-30T11:06:04.226441Z",
     "iopub.status.busy": "2022-06-30T11:06:04.225935Z",
     "iopub.status.idle": "2022-06-30T11:06:04.872408Z",
     "shell.execute_reply": "2022-06-30T11:06:04.872867Z",
     "shell.execute_reply.started": "2022-06-30T11:02:30.836709Z"
    },
    "papermill": {
     "duration": 0.68739,
     "end_time": "2022-06-30T11:06:04.872985",
     "exception": false,
     "start_time": "2022-06-30T11:06:04.185595",
     "status": "completed"
    },
    "tags": []
   },
   "outputs": [
    {
     "data": {
      "text/plain": [
       "<matplotlib.axes._subplots.AxesSubplot at 0x7fbf47af5550>"
      ]
     },
     "execution_count": 22,
     "metadata": {},
     "output_type": "execute_result"
    },
    {
     "data": {
      "image/png": "[encoded data removed]",
      "text/plain": [
       "<Figure size 864x432 with 1 Axes>"
      ]
     },
     "metadata": {
      "needs_background": "light"
     },
     "output_type": "display_data"
    }
   ],
   "source": [
    "plt.figure(figsize=(12,6))\n",
    "sns.countplot(df['Year'], hue=df['reason_main'])"
   ]
  },
  {
   "cell_type": "code",
   "execution_count": 23,
   "metadata": {
    "execution": {
     "iopub.execute_input": "2022-06-30T11:06:04.957056Z",
     "iopub.status.busy": "2022-06-30T11:06:04.956414Z",
     "iopub.status.idle": "2022-06-30T11:06:05.352467Z",
     "shell.execute_reply": "2022-06-30T11:06:05.351857Z",
     "shell.execute_reply.started": "2022-06-30T11:02:31.265676Z"
    },
    "papermill": {
     "duration": 0.440181,
     "end_time": "2022-06-30T11:06:05.352597",
     "exception": false,
     "start_time": "2022-06-30T11:06:04.912416",
     "status": "completed"
    },
    "tags": []
   },
   "outputs": [],
   "source": [
    "# new dataframe for months from January to July \n",
    "# this dataframe will later be used to compare some features \n",
    "df_janJuly = []\n",
    "for i in range(1, 8):\n",
    "    df_i = df[df['Month'] == i]\n",
    "    df_janJuly.append(df_i)\n",
    "df_janJuly=pd.concat(df_janJuly)                 "
   ]
  },
  {
   "cell_type": "code",
   "execution_count": 24,
   "metadata": {
    "execution": {
     "iopub.execute_input": "2022-06-30T11:06:05.485027Z",
     "iopub.status.busy": "2022-06-30T11:06:05.484134Z",
     "iopub.status.idle": "2022-06-30T11:06:05.489138Z",
     "shell.execute_reply": "2022-06-30T11:06:05.488468Z",
     "shell.execute_reply.started": "2022-06-30T11:02:31.685633Z"
    },
    "papermill": {
     "duration": 0.079618,
     "end_time": "2022-06-30T11:06:05.489252",
     "exception": false,
     "start_time": "2022-06-30T11:06:05.409634",
     "status": "completed"
    },
    "tags": []
   },
   "outputs": [
    {
     "data": {
      "text/html": [
       "<div>\n",
       "<style scoped>\n",
       "    .dataframe tbody tr th:only-of-type {\n",
       "        vertical-align: middle;\n",
       "    }\n",
       "\n",
       "    .dataframe tbody tr th {\n",
       "        vertical-align: top;\n",
       "    }\n",
       "\n",
       "    .dataframe thead th {\n",
       "        text-align: right;\n",
       "    }\n",
       "</style>\n",
       "<table border=\"1\" class=\"dataframe\">\n",
       "  <thead>\n",
       "    <tr style=\"text-align: right;\">\n",
       "      <th></th>\n",
       "      <th>lat</th>\n",
       "      <th>lng</th>\n",
       "      <th>desc</th>\n",
       "      <th>zip</th>\n",
       "      <th>title</th>\n",
       "      <th>timeStamp</th>\n",
       "      <th>twp</th>\n",
       "      <th>addr</th>\n",
       "      <th>e</th>\n",
       "      <th>reason_main</th>\n",
       "      <th>reason_detail</th>\n",
       "      <th>Year</th>\n",
       "      <th>Hour</th>\n",
       "      <th>Month</th>\n",
       "      <th>DayOfTheWeek</th>\n",
       "    </tr>\n",
       "  </thead>\n",
       "  <tbody>\n",
       "    <tr>\n",
       "      <th>663517</th>\n",
       "      <td>40.157956</td>\n",
       "      <td>-75.348060</td>\n",
       "      <td>SUNSET AVE &amp; WOODLAND AVE; EAST NORRITON; 2020...</td>\n",
       "      <td>19403.0</td>\n",
       "      <td>Traffic: VEHICLE ACCIDENT -</td>\n",
       "      <td>2020-07-29 15:46:51</td>\n",
       "      <td>EAST NORRITON</td>\n",
       "      <td>SUNSET AVE &amp; WOODLAND AVE</td>\n",
       "      <td>1</td>\n",
       "      <td>Traffic</td>\n",
       "      <td>VEHICLE ACCIDENT -</td>\n",
       "      <td>2020</td>\n",
       "      <td>15</td>\n",
       "      <td>7</td>\n",
       "      <td>Wednsday</td>\n",
       "    </tr>\n",
       "    <tr>\n",
       "      <th>663518</th>\n",
       "      <td>40.136306</td>\n",
       "      <td>-75.428697</td>\n",
       "      <td>EAGLEVILLE RD &amp; BUNTING CIR;  LOWER PROVIDENCE...</td>\n",
       "      <td>19403.0</td>\n",
       "      <td>EMS: GENERAL WEAKNESS</td>\n",
       "      <td>2020-07-29 15:52:19</td>\n",
       "      <td>LOWER PROVIDENCE</td>\n",
       "      <td>EAGLEVILLE RD &amp; BUNTING CIR</td>\n",
       "      <td>1</td>\n",
       "      <td>EMS</td>\n",
       "      <td>GENERAL WEAKNESS</td>\n",
       "      <td>2020</td>\n",
       "      <td>15</td>\n",
       "      <td>7</td>\n",
       "      <td>Wednsday</td>\n",
       "    </tr>\n",
       "    <tr>\n",
       "      <th>663519</th>\n",
       "      <td>40.013779</td>\n",
       "      <td>-75.300835</td>\n",
       "      <td>HAVERFORD STATION RD;  LOWER MERION; Station 3...</td>\n",
       "      <td>19041.0</td>\n",
       "      <td>EMS: VEHICLE ACCIDENT</td>\n",
       "      <td>2020-07-29 15:52:52</td>\n",
       "      <td>LOWER MERION</td>\n",
       "      <td>HAVERFORD STATION RD</td>\n",
       "      <td>1</td>\n",
       "      <td>EMS</td>\n",
       "      <td>VEHICLE ACCIDENT</td>\n",
       "      <td>2020</td>\n",
       "      <td>15</td>\n",
       "      <td>7</td>\n",
       "      <td>Wednsday</td>\n",
       "    </tr>\n",
       "    <tr>\n",
       "      <th>663520</th>\n",
       "      <td>40.121603</td>\n",
       "      <td>-75.351437</td>\n",
       "      <td>MARSHALL ST &amp; HAWS AVE; NORRISTOWN; 2020-07-29...</td>\n",
       "      <td>19401.0</td>\n",
       "      <td>Fire: BUILDING FIRE</td>\n",
       "      <td>2020-07-29 15:54:08</td>\n",
       "      <td>NORRISTOWN</td>\n",
       "      <td>MARSHALL ST &amp; HAWS AVE</td>\n",
       "      <td>1</td>\n",
       "      <td>Fire</td>\n",
       "      <td>BUILDING FIRE</td>\n",
       "      <td>2020</td>\n",
       "      <td>15</td>\n",
       "      <td>7</td>\n",
       "      <td>Wednsday</td>\n",
       "    </tr>\n",
       "    <tr>\n",
       "      <th>663521</th>\n",
       "      <td>40.015046</td>\n",
       "      <td>-75.299674</td>\n",
       "      <td>HAVERFORD STATION RD &amp; W MONTGOMERY AVE; LOWER...</td>\n",
       "      <td>19041.0</td>\n",
       "      <td>Traffic: VEHICLE ACCIDENT -</td>\n",
       "      <td>2020-07-29 15:52:46</td>\n",
       "      <td>LOWER MERION</td>\n",
       "      <td>HAVERFORD STATION RD &amp; W MONTGOMERY AVE</td>\n",
       "      <td>1</td>\n",
       "      <td>Traffic</td>\n",
       "      <td>VEHICLE ACCIDENT -</td>\n",
       "      <td>2020</td>\n",
       "      <td>15</td>\n",
       "      <td>7</td>\n",
       "      <td>Wednsday</td>\n",
       "    </tr>\n",
       "  </tbody>\n",
       "</table>\n",
       "</div>"
      ],
      "text/plain": [
       "              lat        lng  \\\n",
       "663517  40.157956 -75.348060   \n",
       "663518  40.136306 -75.428697   \n",
       "663519  40.013779 -75.300835   \n",
       "663520  40.121603 -75.351437   \n",
       "663521  40.015046 -75.299674   \n",
       "\n",
       "                                                     desc      zip  \\\n",
       "663517  SUNSET AVE & WOODLAND AVE; EAST NORRITON; 2020...  19403.0   \n",
       "663518  EAGLEVILLE RD & BUNTING CIR;  LOWER PROVIDENCE...  19403.0   \n",
       "663519  HAVERFORD STATION RD;  LOWER MERION; Station 3...  19041.0   \n",
       "663520  MARSHALL ST & HAWS AVE; NORRISTOWN; 2020-07-29...  19401.0   \n",
       "663521  HAVERFORD STATION RD & W MONTGOMERY AVE; LOWER...  19041.0   \n",
       "\n",
       "                              title           timeStamp               twp  \\\n",
       "663517  Traffic: VEHICLE ACCIDENT - 2020-07-29 15:46:51     EAST NORRITON   \n",
       "663518        EMS: GENERAL WEAKNESS 2020-07-29 15:52:19  LOWER PROVIDENCE   \n",
       "663519        EMS: VEHICLE ACCIDENT 2020-07-29 15:52:52      LOWER MERION   \n",
       "663520          Fire: BUILDING FIRE 2020-07-29 15:54:08        NORRISTOWN   \n",
       "663521  Traffic: VEHICLE ACCIDENT - 2020-07-29 15:52:46      LOWER MERION   \n",
       "\n",
       "                                           addr  e reason_main  \\\n",
       "663517                SUNSET AVE & WOODLAND AVE  1     Traffic   \n",
       "663518              EAGLEVILLE RD & BUNTING CIR  1         EMS   \n",
       "663519                     HAVERFORD STATION RD  1         EMS   \n",
       "663520                   MARSHALL ST & HAWS AVE  1        Fire   \n",
       "663521  HAVERFORD STATION RD & W MONTGOMERY AVE  1     Traffic   \n",
       "\n",
       "              reason_detail  Year  Hour  Month DayOfTheWeek  \n",
       "663517   VEHICLE ACCIDENT -  2020    15      7     Wednsday  \n",
       "663518     GENERAL WEAKNESS  2020    15      7     Wednsday  \n",
       "663519     VEHICLE ACCIDENT  2020    15      7     Wednsday  \n",
       "663520        BUILDING FIRE  2020    15      7     Wednsday  \n",
       "663521   VEHICLE ACCIDENT -  2020    15      7     Wednsday  "
      ]
     },
     "execution_count": 24,
     "metadata": {},
     "output_type": "execute_result"
    }
   ],
   "source": [
    "df_janJuly.tail()"
   ]
  },
  {
   "cell_type": "code",
   "execution_count": 25,
   "metadata": {
    "execution": {
     "iopub.execute_input": "2022-06-30T11:06:05.609888Z",
     "iopub.status.busy": "2022-06-30T11:06:05.609101Z",
     "iopub.status.idle": "2022-06-30T11:06:05.906639Z",
     "shell.execute_reply": "2022-06-30T11:06:05.905949Z",
     "shell.execute_reply.started": "2022-06-30T11:02:31.706097Z"
    },
    "papermill": {
     "duration": 0.359879,
     "end_time": "2022-06-30T11:06:05.906765",
     "exception": false,
     "start_time": "2022-06-30T11:06:05.546886",
     "status": "completed"
    },
    "tags": []
   },
   "outputs": [
    {
     "data": {
      "text/plain": [
       "<matplotlib.axes._subplots.AxesSubplot at 0x7fbf47e97fd0>"
      ]
     },
     "execution_count": 25,
     "metadata": {},
     "output_type": "execute_result"
    },
    {
     "data": {
      "image/png": "[encoded data removed]",
      "text/plain": [
       "<Figure size 432x288 with 1 Axes>"
      ]
     },
     "metadata": {
      "needs_background": "light"
     },
     "output_type": "display_data"
    }
   ],
   "source": [
    "df_JJ = df_janJuly\n",
    "sns.countplot(df_JJ['Year'], hue=df_JJ['reason_main'] )"
   ]
  },
  {
   "cell_type": "code",
   "execution_count": 26,
   "metadata": {
    "execution": {
     "iopub.execute_input": "2022-06-30T11:06:06.044424Z",
     "iopub.status.busy": "2022-06-30T11:06:06.043666Z",
     "iopub.status.idle": "2022-06-30T11:06:06.607480Z",
     "shell.execute_reply": "2022-06-30T11:06:06.607986Z",
     "shell.execute_reply.started": "2022-06-30T11:02:32.037425Z"
    },
    "papermill": {
     "duration": 0.643176,
     "end_time": "2022-06-30T11:06:06.608123",
     "exception": false,
     "start_time": "2022-06-30T11:06:05.964947",
     "status": "completed"
    },
    "tags": []
   },
   "outputs": [
    {
     "data": {
      "text/html": [
       "<div>\n",
       "<style scoped>\n",
       "    .dataframe tbody tr th:only-of-type {\n",
       "        vertical-align: middle;\n",
       "    }\n",
       "\n",
       "    .dataframe tbody tr th {\n",
       "        vertical-align: top;\n",
       "    }\n",
       "\n",
       "    .dataframe thead th {\n",
       "        text-align: right;\n",
       "    }\n",
       "</style>\n",
       "<table border=\"1\" class=\"dataframe\">\n",
       "  <thead>\n",
       "    <tr style=\"text-align: right;\">\n",
       "      <th></th>\n",
       "      <th>lat</th>\n",
       "      <th>lng</th>\n",
       "      <th>desc</th>\n",
       "      <th>zip</th>\n",
       "      <th>title</th>\n",
       "      <th>timeStamp</th>\n",
       "      <th>twp</th>\n",
       "      <th>addr</th>\n",
       "      <th>e</th>\n",
       "      <th>reason_main</th>\n",
       "      <th>reason_detail</th>\n",
       "      <th>Year</th>\n",
       "      <th>Hour</th>\n",
       "      <th>DayOfTheWeek</th>\n",
       "    </tr>\n",
       "    <tr>\n",
       "      <th>Month</th>\n",
       "      <th></th>\n",
       "      <th></th>\n",
       "      <th></th>\n",
       "      <th></th>\n",
       "      <th></th>\n",
       "      <th></th>\n",
       "      <th></th>\n",
       "      <th></th>\n",
       "      <th></th>\n",
       "      <th></th>\n",
       "      <th></th>\n",
       "      <th></th>\n",
       "      <th></th>\n",
       "      <th></th>\n",
       "    </tr>\n",
       "  </thead>\n",
       "  <tbody>\n",
       "    <tr>\n",
       "      <th>1</th>\n",
       "      <td>62336</td>\n",
       "      <td>62336</td>\n",
       "      <td>62336</td>\n",
       "      <td>55294</td>\n",
       "      <td>62336</td>\n",
       "      <td>62336</td>\n",
       "      <td>62312</td>\n",
       "      <td>62336</td>\n",
       "      <td>62336</td>\n",
       "      <td>62336</td>\n",
       "      <td>62336</td>\n",
       "      <td>62336</td>\n",
       "      <td>62336</td>\n",
       "      <td>62336</td>\n",
       "    </tr>\n",
       "    <tr>\n",
       "      <th>2</th>\n",
       "      <td>55427</td>\n",
       "      <td>55427</td>\n",
       "      <td>55427</td>\n",
       "      <td>48922</td>\n",
       "      <td>55427</td>\n",
       "      <td>55427</td>\n",
       "      <td>55405</td>\n",
       "      <td>55427</td>\n",
       "      <td>55427</td>\n",
       "      <td>55427</td>\n",
       "      <td>55427</td>\n",
       "      <td>55427</td>\n",
       "      <td>55427</td>\n",
       "      <td>55427</td>\n",
       "    </tr>\n",
       "    <tr>\n",
       "      <th>3</th>\n",
       "      <td>60027</td>\n",
       "      <td>60027</td>\n",
       "      <td>60027</td>\n",
       "      <td>53252</td>\n",
       "      <td>60027</td>\n",
       "      <td>60027</td>\n",
       "      <td>60001</td>\n",
       "      <td>60027</td>\n",
       "      <td>60027</td>\n",
       "      <td>60027</td>\n",
       "      <td>60027</td>\n",
       "      <td>60027</td>\n",
       "      <td>60027</td>\n",
       "      <td>60027</td>\n",
       "    </tr>\n",
       "    <tr>\n",
       "      <th>4</th>\n",
       "      <td>53671</td>\n",
       "      <td>53671</td>\n",
       "      <td>53671</td>\n",
       "      <td>47349</td>\n",
       "      <td>53671</td>\n",
       "      <td>53671</td>\n",
       "      <td>53655</td>\n",
       "      <td>53671</td>\n",
       "      <td>53671</td>\n",
       "      <td>53671</td>\n",
       "      <td>53671</td>\n",
       "      <td>53671</td>\n",
       "      <td>53671</td>\n",
       "      <td>53671</td>\n",
       "    </tr>\n",
       "    <tr>\n",
       "      <th>5</th>\n",
       "      <td>57509</td>\n",
       "      <td>57509</td>\n",
       "      <td>57509</td>\n",
       "      <td>50354</td>\n",
       "      <td>57509</td>\n",
       "      <td>57509</td>\n",
       "      <td>57474</td>\n",
       "      <td>57509</td>\n",
       "      <td>57509</td>\n",
       "      <td>57509</td>\n",
       "      <td>57509</td>\n",
       "      <td>57509</td>\n",
       "      <td>57509</td>\n",
       "      <td>57509</td>\n",
       "    </tr>\n",
       "    <tr>\n",
       "      <th>6</th>\n",
       "      <td>60034</td>\n",
       "      <td>60034</td>\n",
       "      <td>60034</td>\n",
       "      <td>52593</td>\n",
       "      <td>60034</td>\n",
       "      <td>60034</td>\n",
       "      <td>60005</td>\n",
       "      <td>60034</td>\n",
       "      <td>60034</td>\n",
       "      <td>60034</td>\n",
       "      <td>60034</td>\n",
       "      <td>60034</td>\n",
       "      <td>60034</td>\n",
       "      <td>60034</td>\n",
       "    </tr>\n",
       "    <tr>\n",
       "      <th>7</th>\n",
       "      <td>59832</td>\n",
       "      <td>59832</td>\n",
       "      <td>59832</td>\n",
       "      <td>52507</td>\n",
       "      <td>59832</td>\n",
       "      <td>59832</td>\n",
       "      <td>59802</td>\n",
       "      <td>59832</td>\n",
       "      <td>59832</td>\n",
       "      <td>59832</td>\n",
       "      <td>59832</td>\n",
       "      <td>59832</td>\n",
       "      <td>59832</td>\n",
       "      <td>59832</td>\n",
       "    </tr>\n",
       "    <tr>\n",
       "      <th>8</th>\n",
       "      <td>48359</td>\n",
       "      <td>48359</td>\n",
       "      <td>48359</td>\n",
       "      <td>42311</td>\n",
       "      <td>48359</td>\n",
       "      <td>48359</td>\n",
       "      <td>48335</td>\n",
       "      <td>48359</td>\n",
       "      <td>48359</td>\n",
       "      <td>48359</td>\n",
       "      <td>48359</td>\n",
       "      <td>48359</td>\n",
       "      <td>48359</td>\n",
       "      <td>48359</td>\n",
       "    </tr>\n",
       "    <tr>\n",
       "      <th>9</th>\n",
       "      <td>47213</td>\n",
       "      <td>47213</td>\n",
       "      <td>47213</td>\n",
       "      <td>41289</td>\n",
       "      <td>47213</td>\n",
       "      <td>47213</td>\n",
       "      <td>47196</td>\n",
       "      <td>47213</td>\n",
       "      <td>47213</td>\n",
       "      <td>47213</td>\n",
       "      <td>47213</td>\n",
       "      <td>47213</td>\n",
       "      <td>47213</td>\n",
       "      <td>47213</td>\n",
       "    </tr>\n",
       "    <tr>\n",
       "      <th>10</th>\n",
       "      <td>51240</td>\n",
       "      <td>51240</td>\n",
       "      <td>51240</td>\n",
       "      <td>44582</td>\n",
       "      <td>51240</td>\n",
       "      <td>51240</td>\n",
       "      <td>51220</td>\n",
       "      <td>51240</td>\n",
       "      <td>51240</td>\n",
       "      <td>51240</td>\n",
       "      <td>51240</td>\n",
       "      <td>51240</td>\n",
       "      <td>51240</td>\n",
       "      <td>51240</td>\n",
       "    </tr>\n",
       "    <tr>\n",
       "      <th>11</th>\n",
       "      <td>50182</td>\n",
       "      <td>50182</td>\n",
       "      <td>50182</td>\n",
       "      <td>44087</td>\n",
       "      <td>50182</td>\n",
       "      <td>50182</td>\n",
       "      <td>50157</td>\n",
       "      <td>50182</td>\n",
       "      <td>50182</td>\n",
       "      <td>50182</td>\n",
       "      <td>50182</td>\n",
       "      <td>50182</td>\n",
       "      <td>50182</td>\n",
       "      <td>50182</td>\n",
       "    </tr>\n",
       "    <tr>\n",
       "      <th>12</th>\n",
       "      <td>57692</td>\n",
       "      <td>57692</td>\n",
       "      <td>57692</td>\n",
       "      <td>50783</td>\n",
       "      <td>57692</td>\n",
       "      <td>57692</td>\n",
       "      <td>57667</td>\n",
       "      <td>57692</td>\n",
       "      <td>57692</td>\n",
       "      <td>57692</td>\n",
       "      <td>57692</td>\n",
       "      <td>57692</td>\n",
       "      <td>57692</td>\n",
       "      <td>57692</td>\n",
       "    </tr>\n",
       "  </tbody>\n",
       "</table>\n",
       "</div>"
      ],
      "text/plain": [
       "         lat    lng   desc    zip  title  timeStamp    twp   addr      e  \\\n",
       "Month                                                                      \n",
       "1      62336  62336  62336  55294  62336      62336  62312  62336  62336   \n",
       "2      55427  55427  55427  48922  55427      55427  55405  55427  55427   \n",
       "3      60027  60027  60027  53252  60027      60027  60001  60027  60027   \n",
       "4      53671  53671  53671  47349  53671      53671  53655  53671  53671   \n",
       "5      57509  57509  57509  50354  57509      57509  57474  57509  57509   \n",
       "6      60034  60034  60034  52593  60034      60034  60005  60034  60034   \n",
       "7      59832  59832  59832  52507  59832      59832  59802  59832  59832   \n",
       "8      48359  48359  48359  42311  48359      48359  48335  48359  48359   \n",
       "9      47213  47213  47213  41289  47213      47213  47196  47213  47213   \n",
       "10     51240  51240  51240  44582  51240      51240  51220  51240  51240   \n",
       "11     50182  50182  50182  44087  50182      50182  50157  50182  50182   \n",
       "12     57692  57692  57692  50783  57692      57692  57667  57692  57692   \n",
       "\n",
       "       reason_main  reason_detail   Year   Hour  DayOfTheWeek  \n",
       "Month                                                          \n",
       "1            62336          62336  62336  62336         62336  \n",
       "2            55427          55427  55427  55427         55427  \n",
       "3            60027          60027  60027  60027         60027  \n",
       "4            53671          53671  53671  53671         53671  \n",
       "5            57509          57509  57509  57509         57509  \n",
       "6            60034          60034  60034  60034         60034  \n",
       "7            59832          59832  59832  59832         59832  \n",
       "8            48359          48359  48359  48359         48359  \n",
       "9            47213          47213  47213  47213         47213  \n",
       "10           51240          51240  51240  51240         51240  \n",
       "11           50182          50182  50182  50182         50182  \n",
       "12           57692          57692  57692  57692         57692  "
      ]
     },
     "execution_count": 26,
     "metadata": {},
     "output_type": "execute_result"
    }
   ],
   "source": [
    "byMonth = df.groupby(by='Month').count()\n",
    "byMonth"
   ]
  },
  {
   "cell_type": "code",
   "execution_count": 27,
   "metadata": {
    "execution": {
     "iopub.execute_input": "2022-06-30T11:06:06.730649Z",
     "iopub.status.busy": "2022-06-30T11:06:06.729815Z",
     "iopub.status.idle": "2022-06-30T11:06:06.902720Z",
     "shell.execute_reply": "2022-06-30T11:06:06.903228Z",
     "shell.execute_reply.started": "2022-06-30T11:02:32.386857Z"
    },
    "papermill": {
     "duration": 0.235637,
     "end_time": "2022-06-30T11:06:06.903368",
     "exception": false,
     "start_time": "2022-06-30T11:06:06.667731",
     "status": "completed"
    },
    "tags": []
   },
   "outputs": [
    {
     "data": {
      "image/png": "[encoded data removed]",
      "text/plain": [
       "<Figure size 864x432 with 1 Axes>"
      ]
     },
     "metadata": {
      "needs_background": "light"
     },
     "output_type": "display_data"
    }
   ],
   "source": [
    "plt.figure(figsize=(12,6))\n",
    "byMonth['reason_main'].plot()\n",
    "plt.xlabel('Month')\n",
    "plt.ylabel('Number of calls')\n",
    "plt.grid()"
   ]
  },
  {
   "cell_type": "code",
   "execution_count": 28,
   "metadata": {
    "execution": {
     "iopub.execute_input": "2022-06-30T11:06:07.034754Z",
     "iopub.status.busy": "2022-06-30T11:06:07.033808Z",
     "iopub.status.idle": "2022-06-30T11:06:07.850405Z",
     "shell.execute_reply": "2022-06-30T11:06:07.849848Z",
     "shell.execute_reply.started": "2022-06-30T11:02:32.544546Z"
    },
    "papermill": {
     "duration": 0.887181,
     "end_time": "2022-06-30T11:06:07.850494",
     "exception": false,
     "start_time": "2022-06-30T11:06:06.963313",
     "status": "completed"
    },
    "tags": []
   },
   "outputs": [
    {
     "data": {
      "text/plain": [
       "<matplotlib.axes._subplots.AxesSubplot at 0x7fbf486d1c90>"
      ]
     },
     "execution_count": 28,
     "metadata": {},
     "output_type": "execute_result"
    },
    {
     "data": {
      "image/png": "[encoded data removed]",
      "text/plain": [
       "<Figure size 864x432 with 2 Axes>"
      ]
     },
     "metadata": {
      "needs_background": "light"
     },
     "output_type": "display_data"
    }
   ],
   "source": [
    "dayMonth = df.groupby(by=['DayOfTheWeek','Month']).count()['reason_main'].unstack()\n",
    "dayMonth\n",
    "plt.figure(figsize=(12,6))\n",
    "sns.heatmap(dayMonth,cmap='rainbow')"
   ]
  },
  {
   "cell_type": "code",
   "execution_count": 29,
   "metadata": {
    "execution": {
     "iopub.execute_input": "2022-06-30T11:06:07.938933Z",
     "iopub.status.busy": "2022-06-30T11:06:07.938408Z",
     "iopub.status.idle": "2022-06-30T11:06:08.544425Z",
     "shell.execute_reply": "2022-06-30T11:06:08.543876Z",
     "shell.execute_reply.started": "2022-06-30T11:02:33.116166Z"
    },
    "papermill": {
     "duration": 0.651629,
     "end_time": "2022-06-30T11:06:08.544707",
     "exception": false,
     "start_time": "2022-06-30T11:06:07.893078",
     "status": "completed"
    },
    "tags": []
   },
   "outputs": [
    {
     "data": {
      "text/html": [
       "<div>\n",
       "<style scoped>\n",
       "    .dataframe tbody tr th:only-of-type {\n",
       "        vertical-align: middle;\n",
       "    }\n",
       "\n",
       "    .dataframe tbody tr th {\n",
       "        vertical-align: top;\n",
       "    }\n",
       "\n",
       "    .dataframe thead th {\n",
       "        text-align: right;\n",
       "    }\n",
       "</style>\n",
       "<table border=\"1\" class=\"dataframe\">\n",
       "  <thead>\n",
       "    <tr style=\"text-align: right;\">\n",
       "      <th>Hour</th>\n",
       "      <th>0</th>\n",
       "      <th>1</th>\n",
       "      <th>2</th>\n",
       "      <th>3</th>\n",
       "      <th>4</th>\n",
       "      <th>5</th>\n",
       "      <th>6</th>\n",
       "      <th>7</th>\n",
       "      <th>8</th>\n",
       "      <th>9</th>\n",
       "      <th>...</th>\n",
       "      <th>14</th>\n",
       "      <th>15</th>\n",
       "      <th>16</th>\n",
       "      <th>17</th>\n",
       "      <th>18</th>\n",
       "      <th>19</th>\n",
       "      <th>20</th>\n",
       "      <th>21</th>\n",
       "      <th>22</th>\n",
       "      <th>23</th>\n",
       "    </tr>\n",
       "    <tr>\n",
       "      <th>DayOfTheWeek</th>\n",
       "      <th></th>\n",
       "      <th></th>\n",
       "      <th></th>\n",
       "      <th></th>\n",
       "      <th></th>\n",
       "      <th></th>\n",
       "      <th></th>\n",
       "      <th></th>\n",
       "      <th></th>\n",
       "      <th></th>\n",
       "      <th></th>\n",
       "      <th></th>\n",
       "      <th></th>\n",
       "      <th></th>\n",
       "      <th></th>\n",
       "      <th></th>\n",
       "      <th></th>\n",
       "      <th></th>\n",
       "      <th></th>\n",
       "      <th></th>\n",
       "      <th></th>\n",
       "    </tr>\n",
       "  </thead>\n",
       "  <tbody>\n",
       "    <tr>\n",
       "      <th>Friday</th>\n",
       "      <td>1983</td>\n",
       "      <td>1635</td>\n",
       "      <td>1449</td>\n",
       "      <td>1296</td>\n",
       "      <td>1339</td>\n",
       "      <td>1639</td>\n",
       "      <td>2670</td>\n",
       "      <td>4143</td>\n",
       "      <td>5018</td>\n",
       "      <td>5288</td>\n",
       "      <td>...</td>\n",
       "      <td>6394</td>\n",
       "      <td>7040</td>\n",
       "      <td>7065</td>\n",
       "      <td>7113</td>\n",
       "      <td>5668</td>\n",
       "      <td>5056</td>\n",
       "      <td>4375</td>\n",
       "      <td>3913</td>\n",
       "      <td>3422</td>\n",
       "      <td>2834</td>\n",
       "    </tr>\n",
       "    <tr>\n",
       "      <th>Monday</th>\n",
       "      <td>1894</td>\n",
       "      <td>1571</td>\n",
       "      <td>1368</td>\n",
       "      <td>1272</td>\n",
       "      <td>1336</td>\n",
       "      <td>1844</td>\n",
       "      <td>2675</td>\n",
       "      <td>4430</td>\n",
       "      <td>5504</td>\n",
       "      <td>5724</td>\n",
       "      <td>...</td>\n",
       "      <td>5713</td>\n",
       "      <td>6289</td>\n",
       "      <td>6346</td>\n",
       "      <td>6408</td>\n",
       "      <td>5441</td>\n",
       "      <td>4488</td>\n",
       "      <td>3823</td>\n",
       "      <td>3254</td>\n",
       "      <td>2658</td>\n",
       "      <td>2072</td>\n",
       "    </tr>\n",
       "    <tr>\n",
       "      <th>Saturday</th>\n",
       "      <td>2447</td>\n",
       "      <td>2059</td>\n",
       "      <td>1883</td>\n",
       "      <td>1592</td>\n",
       "      <td>1451</td>\n",
       "      <td>1580</td>\n",
       "      <td>1880</td>\n",
       "      <td>2489</td>\n",
       "      <td>3457</td>\n",
       "      <td>4315</td>\n",
       "      <td>...</td>\n",
       "      <td>5421</td>\n",
       "      <td>5181</td>\n",
       "      <td>5211</td>\n",
       "      <td>5213</td>\n",
       "      <td>4980</td>\n",
       "      <td>4753</td>\n",
       "      <td>4127</td>\n",
       "      <td>3895</td>\n",
       "      <td>3226</td>\n",
       "      <td>2965</td>\n",
       "    </tr>\n",
       "    <tr>\n",
       "      <th>Sunday</th>\n",
       "      <td>2424</td>\n",
       "      <td>2135</td>\n",
       "      <td>1946</td>\n",
       "      <td>1614</td>\n",
       "      <td>1471</td>\n",
       "      <td>1488</td>\n",
       "      <td>1726</td>\n",
       "      <td>2408</td>\n",
       "      <td>3001</td>\n",
       "      <td>3728</td>\n",
       "      <td>...</td>\n",
       "      <td>4744</td>\n",
       "      <td>4475</td>\n",
       "      <td>4560</td>\n",
       "      <td>4505</td>\n",
       "      <td>4402</td>\n",
       "      <td>4135</td>\n",
       "      <td>3748</td>\n",
       "      <td>3161</td>\n",
       "      <td>2629</td>\n",
       "      <td>2323</td>\n",
       "    </tr>\n",
       "    <tr>\n",
       "      <th>Thursday</th>\n",
       "      <td>1731</td>\n",
       "      <td>1408</td>\n",
       "      <td>1426</td>\n",
       "      <td>1236</td>\n",
       "      <td>1293</td>\n",
       "      <td>1775</td>\n",
       "      <td>2816</td>\n",
       "      <td>4432</td>\n",
       "      <td>5297</td>\n",
       "      <td>5412</td>\n",
       "      <td>...</td>\n",
       "      <td>6079</td>\n",
       "      <td>6493</td>\n",
       "      <td>6375</td>\n",
       "      <td>6935</td>\n",
       "      <td>5512</td>\n",
       "      <td>4703</td>\n",
       "      <td>4045</td>\n",
       "      <td>3490</td>\n",
       "      <td>2844</td>\n",
       "      <td>2354</td>\n",
       "    </tr>\n",
       "    <tr>\n",
       "      <th>Tuesday</th>\n",
       "      <td>1720</td>\n",
       "      <td>1459</td>\n",
       "      <td>1322</td>\n",
       "      <td>1213</td>\n",
       "      <td>1247</td>\n",
       "      <td>1741</td>\n",
       "      <td>2784</td>\n",
       "      <td>4425</td>\n",
       "      <td>5634</td>\n",
       "      <td>5566</td>\n",
       "      <td>...</td>\n",
       "      <td>5926</td>\n",
       "      <td>6252</td>\n",
       "      <td>6495</td>\n",
       "      <td>6883</td>\n",
       "      <td>5628</td>\n",
       "      <td>4621</td>\n",
       "      <td>3845</td>\n",
       "      <td>3409</td>\n",
       "      <td>2708</td>\n",
       "      <td>2137</td>\n",
       "    </tr>\n",
       "    <tr>\n",
       "      <th>Wednsday</th>\n",
       "      <td>1664</td>\n",
       "      <td>1484</td>\n",
       "      <td>1259</td>\n",
       "      <td>1265</td>\n",
       "      <td>1128</td>\n",
       "      <td>1609</td>\n",
       "      <td>2668</td>\n",
       "      <td>4644</td>\n",
       "      <td>5469</td>\n",
       "      <td>5444</td>\n",
       "      <td>...</td>\n",
       "      <td>6069</td>\n",
       "      <td>6533</td>\n",
       "      <td>6745</td>\n",
       "      <td>7062</td>\n",
       "      <td>5691</td>\n",
       "      <td>4686</td>\n",
       "      <td>4116</td>\n",
       "      <td>3537</td>\n",
       "      <td>2826</td>\n",
       "      <td>2207</td>\n",
       "    </tr>\n",
       "  </tbody>\n",
       "</table>\n",
       "<p>7 rows × 24 columns</p>\n",
       "</div>"
      ],
      "text/plain": [
       "Hour            0     1     2     3     4     5     6     7     8     9   ...  \\\n",
       "DayOfTheWeek                                                              ...   \n",
       "Friday        1983  1635  1449  1296  1339  1639  2670  4143  5018  5288  ...   \n",
       "Monday        1894  1571  1368  1272  1336  1844  2675  4430  5504  5724  ...   \n",
       "Saturday      2447  2059  1883  1592  1451  1580  1880  2489  3457  4315  ...   \n",
       "Sunday        2424  2135  1946  1614  1471  1488  1726  2408  3001  3728  ...   \n",
       "Thursday      1731  1408  1426  1236  1293  1775  2816  4432  5297  5412  ...   \n",
       "Tuesday       1720  1459  1322  1213  1247  1741  2784  4425  5634  5566  ...   \n",
       "Wednsday      1664  1484  1259  1265  1128  1609  2668  4644  5469  5444  ...   \n",
       "\n",
       "Hour            14    15    16    17    18    19    20    21    22    23  \n",
       "DayOfTheWeek                                                              \n",
       "Friday        6394  7040  7065  7113  5668  5056  4375  3913  3422  2834  \n",
       "Monday        5713  6289  6346  6408  5441  4488  3823  3254  2658  2072  \n",
       "Saturday      5421  5181  5211  5213  4980  4753  4127  3895  3226  2965  \n",
       "Sunday        4744  4475  4560  4505  4402  4135  3748  3161  2629  2323  \n",
       "Thursday      6079  6493  6375  6935  5512  4703  4045  3490  2844  2354  \n",
       "Tuesday       5926  6252  6495  6883  5628  4621  3845  3409  2708  2137  \n",
       "Wednsday      6069  6533  6745  7062  5691  4686  4116  3537  2826  2207  \n",
       "\n",
       "[7 rows x 24 columns]"
      ]
     },
     "execution_count": 29,
     "metadata": {},
     "output_type": "execute_result"
    }
   ],
   "source": [
    "dayHour = df.groupby(by=['DayOfTheWeek','Hour']).count()['reason_main'].unstack()\n",
    "dayHour"
   ]
  },
  {
   "cell_type": "code",
   "execution_count": 30,
   "metadata": {
    "execution": {
     "iopub.execute_input": "2022-06-30T11:06:08.660697Z",
     "iopub.status.busy": "2022-06-30T11:06:08.660182Z",
     "iopub.status.idle": "2022-06-30T11:06:08.947990Z",
     "shell.execute_reply": "2022-06-30T11:06:08.947475Z",
     "shell.execute_reply.started": "2022-06-30T11:02:33.481086Z"
    },
    "papermill": {
     "duration": 0.339933,
     "end_time": "2022-06-30T11:06:08.948074",
     "exception": false,
     "start_time": "2022-06-30T11:06:08.608141",
     "status": "completed"
    },
    "tags": []
   },
   "outputs": [
    {
     "data": {
      "text/plain": [
       "Text(0.5, 1.0, '911 calls')"
      ]
     },
     "execution_count": 30,
     "metadata": {},
     "output_type": "execute_result"
    },
    {
     "data": {
      "image/png": "[encoded data removed]",
      "text/plain": [
       "<Figure size 864x432 with 2 Axes>"
      ]
     },
     "metadata": {
      "needs_background": "light"
     },
     "output_type": "display_data"
    }
   ],
   "source": [
    "plt.figure(figsize=(12,6))\n",
    "sns.heatmap(dayHour,cmap='rainbow')\n",
    "plt.title('911 calls')"
   ]
  },
  {
   "cell_type": "markdown",
   "metadata": {
    "papermill": {
     "duration": 0.044252,
     "end_time": "2022-06-30T11:06:09.036367",
     "exception": false,
     "start_time": "2022-06-30T11:06:08.992115",
     "status": "completed"
    },
    "tags": []
   },
   "source": [
    "# Weekend overdose\n",
    "**Drug Overdose**: It looks like that overdose call coinside with what is normally considered as 'partying' time. At weekends during late/early hours of the day.  "
   ]
  },
  {
   "cell_type": "code",
   "execution_count": 31,
   "metadata": {
    "execution": {
     "iopub.execute_input": "2022-06-30T11:06:09.167547Z",
     "iopub.status.busy": "2022-06-30T11:06:09.166917Z",
     "iopub.status.idle": "2022-06-30T11:06:09.179814Z",
     "shell.execute_reply": "2022-06-30T11:06:09.179236Z",
     "shell.execute_reply.started": "2022-06-30T11:02:33.737338Z"
    },
    "papermill": {
     "duration": 0.098784,
     "end_time": "2022-06-30T11:06:09.179920",
     "exception": false,
     "start_time": "2022-06-30T11:06:09.081136",
     "status": "completed"
    },
    "tags": []
   },
   "outputs": [],
   "source": [
    "df_overdose = df[df['reason_detail'] ==' OVERDOSE']"
   ]
  },
  {
   "cell_type": "code",
   "execution_count": 32,
   "metadata": {
    "execution": {
     "iopub.execute_input": "2022-06-30T11:06:09.314699Z",
     "iopub.status.busy": "2022-06-30T11:06:09.313955Z",
     "iopub.status.idle": "2022-06-30T11:06:09.494508Z",
     "shell.execute_reply": "2022-06-30T11:06:09.493952Z",
     "shell.execute_reply.started": "2022-06-30T11:02:33.797614Z"
    },
    "papermill": {
     "duration": 0.250461,
     "end_time": "2022-06-30T11:06:09.494632",
     "exception": false,
     "start_time": "2022-06-30T11:06:09.244171",
     "status": "completed"
    },
    "tags": []
   },
   "outputs": [
    {
     "data": {
      "text/plain": [
       "<matplotlib.axes._subplots.AxesSubplot at 0x7fbf3c8dd5d0>"
      ]
     },
     "execution_count": 32,
     "metadata": {},
     "output_type": "execute_result"
    },
    {
     "data": {
      "image/png": "[encoded data removed]",
      "text/plain": [
       "<Figure size 864x432 with 1 Axes>"
      ]
     },
     "metadata": {
      "needs_background": "light"
     },
     "output_type": "display_data"
    }
   ],
   "source": [
    "plt.figure(figsize=(12,6))\n",
    "sns.countplot(df_overdose['DayOfTheWeek'], hue=df_overdose['reason_detail'])"
   ]
  },
  {
   "cell_type": "code",
   "execution_count": 33,
   "metadata": {
    "execution": {
     "iopub.execute_input": "2022-06-30T11:06:09.631168Z",
     "iopub.status.busy": "2022-06-30T11:06:09.630667Z",
     "iopub.status.idle": "2022-06-30T11:06:09.939016Z",
     "shell.execute_reply": "2022-06-30T11:06:09.938446Z",
     "shell.execute_reply.started": "2022-06-30T11:02:33.964873Z"
    },
    "papermill": {
     "duration": 0.378703,
     "end_time": "2022-06-30T11:06:09.939125",
     "exception": false,
     "start_time": "2022-06-30T11:06:09.560422",
     "status": "completed"
    },
    "tags": []
   },
   "outputs": [
    {
     "data": {
      "text/plain": [
       "Text(0.5, 1.0, 'EMS: Overdose related 911 calls')"
      ]
     },
     "execution_count": 33,
     "metadata": {},
     "output_type": "execute_result"
    },
    {
     "data": {
      "image/png": "[encoded data removed]",
      "text/plain": [
       "<Figure size 864x432 with 2 Axes>"
      ]
     },
     "metadata": {
      "needs_background": "light"
     },
     "output_type": "display_data"
    }
   ],
   "source": [
    "plt.figure(figsize=(12,6))\n",
    "overdoseHour = df_overdose.groupby(by=['DayOfTheWeek','Hour']).count()['reason_detail'].unstack()\n",
    "sns.heatmap(overdoseHour,cmap='rainbow')\n",
    "plt.title('EMS: Overdose related 911 calls')"
   ]
  },
  {
   "cell_type": "markdown",
   "metadata": {
    "papermill": {
     "duration": 0.066959,
     "end_time": "2022-06-30T11:06:10.072605",
     "exception": false,
     "start_time": "2022-06-30T11:06:10.005646",
     "status": "completed"
    },
    "tags": []
   },
   "source": [
    "# Rush-hour accident\n",
    "Looking at the traffic accident related calls data, it is easy to see that road accidents are more frequent during the rush hours. On the week days and especially in the afternoon when peopel are rushing home back from work. Strict traffic regulation between 600hrs-1800hrs might help reduce the \n",
    "chances of road traffic accident."
   ]
  },
  {
   "cell_type": "code",
   "execution_count": 34,
   "metadata": {
    "execution": {
     "iopub.execute_input": "2022-06-30T11:06:10.302413Z",
     "iopub.status.busy": "2022-06-30T11:06:10.301776Z",
     "iopub.status.idle": "2022-06-30T11:06:10.659929Z",
     "shell.execute_reply": "2022-06-30T11:06:10.659284Z",
     "shell.execute_reply.started": "2022-06-30T11:02:34.234450Z"
    },
    "papermill": {
     "duration": 0.521445,
     "end_time": "2022-06-30T11:06:10.660031",
     "exception": false,
     "start_time": "2022-06-30T11:06:10.138586",
     "status": "completed"
    },
    "tags": []
   },
   "outputs": [
    {
     "data": {
      "text/plain": [
       "Text(0.5, 1.0, 'Traffic: Vehicle accident 911 calls')"
      ]
     },
     "execution_count": 34,
     "metadata": {},
     "output_type": "execute_result"
    },
    {
     "data": {
      "image/png": "[encoded data removed]",
      "text/plain": [
       "<Figure size 864x432 with 2 Axes>"
      ]
     },
     "metadata": {
      "needs_background": "light"
     },
     "output_type": "display_data"
    }
   ],
   "source": [
    "plt.figure(figsize=(12,6))\n",
    "df_vehAcc = df[(df['reason_detail']== ' VEHICLE ACCIDENT')]\n",
    "vehAccident = df_vehAcc.groupby(by=['DayOfTheWeek','Hour']).count()['reason_detail'].unstack()\n",
    "sns.heatmap(vehAccident,cmap='rainbow')\n",
    "plt.title('Traffic: Vehicle accident 911 calls')"
   ]
  },
  {
   "cell_type": "markdown",
   "metadata": {
    "papermill": {
     "duration": 0.067105,
     "end_time": "2022-06-30T11:06:10.794918",
     "exception": false,
     "start_time": "2022-06-30T11:06:10.727813",
     "status": "completed"
    },
    "tags": []
   },
   "source": [
    "# Your heart is fine in fall\n",
    "Not really! I am not a health professional to make such a big claim.\n",
    "But accocrding to the call data, fall season sees relatively less heart (cardiac emmergency + cardiac arrest + cva/stroke) related 911 calls. *This is a weak conclusion due to no fall-season data for the years 2015 and 2020.* "
   ]
  },
  {
   "cell_type": "code",
   "execution_count": 35,
   "metadata": {
    "execution": {
     "iopub.execute_input": "2022-06-30T11:06:11.117513Z",
     "iopub.status.busy": "2022-06-30T11:06:11.028827Z",
     "iopub.status.idle": "2022-06-30T11:06:11.526231Z",
     "shell.execute_reply": "2022-06-30T11:06:11.525695Z",
     "shell.execute_reply.started": "2022-06-30T11:02:34.582079Z"
    },
    "papermill": {
     "duration": 0.664055,
     "end_time": "2022-06-30T11:06:11.526335",
     "exception": false,
     "start_time": "2022-06-30T11:06:10.862280",
     "status": "completed"
    },
    "tags": []
   },
   "outputs": [
    {
     "data": {
      "text/plain": [
       "Text(0.5, 1.0, 'EMS: Heart related 911 calls')"
      ]
     },
     "execution_count": 35,
     "metadata": {},
     "output_type": "execute_result"
    },
    {
     "data": {
      "image/png": "[encoded data removed]",
      "text/plain": [
       "<Figure size 864x432 with 2 Axes>"
      ]
     },
     "metadata": {
      "needs_background": "light"
     },
     "output_type": "display_data"
    }
   ],
   "source": [
    "plt.figure(figsize=(12,6))\n",
    "df_fall = df[(df['reason_detail']== ' CARDIAC EMERGENCY') | (df['reason_detail']== ' CARDIAC ARREST') | (df['reason_detail']== ' CVA/STROKE')]\n",
    "fallVictims = df_fall.groupby(by=['DayOfTheWeek','Month']).count()['reason_detail'].unstack()\n",
    "sns.heatmap(fallVictims,cmap='rainbow')\n",
    "plt.title('EMS: Heart related 911 calls')"
   ]
  },
  {
   "cell_type": "markdown",
   "metadata": {
    "papermill": {
     "duration": 0.047876,
     "end_time": "2022-06-30T11:06:11.623067",
     "exception": false,
     "start_time": "2022-06-30T11:06:11.575191",
     "status": "completed"
    },
    "tags": []
   },
   "source": [
    "# COVID-19 & respiratory emergency calls\n",
    "For fair comparison, only the data for months January to July are considered, because the data for year 2020 is upto and including the month July. Unsurprisingly, 2020 sees the most respiratory related emergency calls. Obviously more people called 911 on winter as well for respiratory emergency. "
   ]
  },
  {
   "cell_type": "code",
   "execution_count": 36,
   "metadata": {
    "execution": {
     "iopub.execute_input": "2022-06-30T11:06:11.814957Z",
     "iopub.status.busy": "2022-06-30T11:06:11.814441Z",
     "iopub.status.idle": "2022-06-30T11:06:12.110408Z",
     "shell.execute_reply": "2022-06-30T11:06:12.110848Z",
     "shell.execute_reply.started": "2022-06-30T11:02:34.988500Z"
    },
    "papermill": {
     "duration": 0.440195,
     "end_time": "2022-06-30T11:06:12.110972",
     "exception": false,
     "start_time": "2022-06-30T11:06:11.670777",
     "status": "completed"
    },
    "tags": []
   },
   "outputs": [
    {
     "data": {
      "text/plain": [
       "Text(0.5, 1.0, 'EMS: Respiratory calls')"
      ]
     },
     "execution_count": 36,
     "metadata": {},
     "output_type": "execute_result"
    },
    {
     "data": {
      "image/png": "[encoded data removed]",
      "text/plain": [
       "<Figure size 864x432 with 2 Axes>"
      ]
     },
     "metadata": {
      "needs_background": "light"
     },
     "output_type": "display_data"
    }
   ],
   "source": [
    "plt.figure(figsize=(12,6))\n",
    "df_vehAcc = df[(df['reason_detail']== ' RESPIRATORY EMERGENCY')]\n",
    "vehAccident = df_vehAcc.groupby(by=['DayOfTheWeek','Month']).count()['reason_detail'].unstack()\n",
    "sns.heatmap(vehAccident,cmap='rainbow')\n",
    "plt.title('EMS: Respiratory calls')"
   ]
  },
  {
   "cell_type": "code",
   "execution_count": 37,
   "metadata": {
    "execution": {
     "iopub.execute_input": "2022-06-30T11:06:12.211550Z",
     "iopub.status.busy": "2022-06-30T11:06:12.211092Z",
     "iopub.status.idle": "2022-06-30T11:06:12.585553Z",
     "shell.execute_reply": "2022-06-30T11:06:12.585177Z",
     "shell.execute_reply.started": "2022-06-30T11:02:35.292347Z"
    },
    "papermill": {
     "duration": 0.425906,
     "end_time": "2022-06-30T11:06:12.585658",
     "exception": false,
     "start_time": "2022-06-30T11:06:12.159752",
     "status": "completed"
    },
    "tags": []
   },
   "outputs": [
    {
     "data": {
      "text/plain": [
       "Text(0.5, 1.0, 'Respiratory Emergency Calls')"
      ]
     },
     "execution_count": 37,
     "metadata": {},
     "output_type": "execute_result"
    },
    {
     "data": {
      "image/png": "[encoded data removed]",
      "text/plain": [
       "<Figure size 864x432 with 2 Axes>"
      ]
     },
     "metadata": {
      "needs_background": "light"
     },
     "output_type": "display_data"
    }
   ],
   "source": [
    "plt.figure(figsize=(12,6))\n",
    "df_resp = df_JJ[(df_JJ['reason_detail']== ' RESPIRATORY EMERGENCY')]\n",
    "resp = df_resp.groupby(by=['Month','Year']).count()['reason_detail'].unstack()\n",
    "sns.heatmap(resp,cmap='rainbow')\n",
    "plt.title('Respiratory Emergency Calls')"
   ]
  },
  {
   "cell_type": "markdown",
   "metadata": {
    "papermill": {
     "duration": 0.04979,
     "end_time": "2022-06-30T11:06:12.684600",
     "exception": false,
     "start_time": "2022-06-30T11:06:12.634810",
     "status": "completed"
    },
    "tags": []
   },
   "source": [
    "# Lockdown and assault victims"
   ]
  },
  {
   "cell_type": "code",
   "execution_count": 38,
   "metadata": {
    "execution": {
     "iopub.execute_input": "2022-06-30T11:06:12.787002Z",
     "iopub.status.busy": "2022-06-30T11:06:12.786522Z",
     "iopub.status.idle": "2022-06-30T11:06:13.091239Z",
     "shell.execute_reply": "2022-06-30T11:06:13.091652Z",
     "shell.execute_reply.started": "2022-06-30T11:02:35.648145Z"
    },
    "papermill": {
     "duration": 0.357455,
     "end_time": "2022-06-30T11:06:13.091775",
     "exception": false,
     "start_time": "2022-06-30T11:06:12.734320",
     "status": "completed"
    },
    "tags": []
   },
   "outputs": [
    {
     "data": {
      "text/plain": [
       "Text(0.5, 1.0, 'Assualt Victim Calls (January to July only)')"
      ]
     },
     "execution_count": 38,
     "metadata": {},
     "output_type": "execute_result"
    },
    {
     "data": {
      "image/png": "[encoded data removed]",
      "text/plain": [
       "<Figure size 864x432 with 2 Axes>"
      ]
     },
     "metadata": {
      "needs_background": "light"
     },
     "output_type": "display_data"
    }
   ],
   "source": [
    "plt.figure(figsize=(12,6))\n",
    "df_assault = df_JJ[(df_JJ['reason_detail']== ' FIRE ALARM')]\n",
    "assault = df_assault.groupby(by=['Month','Year']).count()['reason_detail'].unstack()\n",
    "sns.heatmap(assault,cmap='rainbow')\n",
    "plt.title('Assualt Victim Calls (January to July only)')"
   ]
  },
  {
   "cell_type": "code",
   "execution_count": 39,
   "metadata": {
    "execution": {
     "iopub.execute_input": "2022-06-30T11:06:13.196699Z",
     "iopub.status.busy": "2022-06-30T11:06:13.196159Z",
     "iopub.status.idle": "2022-06-30T11:06:13.520474Z",
     "shell.execute_reply": "2022-06-30T11:06:13.519965Z",
     "shell.execute_reply.started": "2022-06-30T11:02:35.893770Z"
    },
    "papermill": {
     "duration": 0.377975,
     "end_time": "2022-06-30T11:06:13.520586",
     "exception": false,
     "start_time": "2022-06-30T11:06:13.142611",
     "status": "completed"
    },
    "tags": []
   },
   "outputs": [
    {
     "data": {
      "text/plain": [
       "Text(0.5, 1.0, 'Assualt Victim Calls (total)')"
      ]
     },
     "execution_count": 39,
     "metadata": {},
     "output_type": "execute_result"
    },
    {
     "data": {
      "image/png": "[encoded data removed]",
      "text/plain": [
       "<Figure size 864x432 with 2 Axes>"
      ]
     },
     "metadata": {
      "needs_background": "light"
     },
     "output_type": "display_data"
    }
   ],
   "source": [
    "plt.figure(figsize=(12,6))\n",
    "df_assaultT = df[(df['reason_detail']== ' ASSAULT VICTIM')]\n",
    "assaultT = df_assaultT.groupby(by=['Month','Year']).count()['reason_detail'].unstack()\n",
    "sns.heatmap(assaultT,cmap='rainbow')\n",
    "plt.title('Assualt Victim Calls (total)')"
   ]
  },
  {
   "cell_type": "code",
   "execution_count": null,
   "metadata": {
    "papermill": {
     "duration": 0.085176,
     "end_time": "2022-06-30T11:06:13.656783",
     "exception": false,
     "start_time": "2022-06-30T11:06:13.571607",
     "status": "completed"
    },
    "tags": []
   },
   "outputs": [],
   "source": []
  }
 ],
 "metadata": {
  "kernelspec": {
   "display_name": "Python 3",
   "language": "python",
   "name": "python3"
  },
  "language_info": {
   "codemirror_mode": {
    "name": "ipython",
    "version": 3
   },
   "file_extension": ".py",
   "mimetype": "text/x-python",
   "name": "python",
   "nbconvert_exporter": "python",
   "pygments_lexer": "ipython3",
   "version": "3.7.6"
  },
  "papermill": {
   "duration": 46.747611,
   "end_time": "2022-06-30T11:06:13.817948",
   "environment_variables": {},
   "exception": null,
   "input_path": "__notebook__.ipynb",
   "output_path": "__notebook__.ipynb",
   "parameters": {},
   "start_time": "2022-06-30T11:05:27.070337",
   "version": "2.1.0"
  }
 },
 "nbformat": 4,
 "nbformat_minor": 4
}
